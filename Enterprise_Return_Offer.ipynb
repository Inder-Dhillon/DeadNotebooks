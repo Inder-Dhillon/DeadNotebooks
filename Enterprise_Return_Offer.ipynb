{
  "nbformat": 4,
  "nbformat_minor": 0,
  "metadata": {
    "colab": {
      "name": "Enterprise Return Offer.ipynb",
      "provenance": [],
      "collapsed_sections": [
        "Zc03OOZ2PNOQ",
        "zys27WIHO_l7",
        "DRkuUTFpPmzb",
        "fF6PsWQ6aX8D",
        "W0S36Vp4PVqh"
      ]
    },
    "kernelspec": {
      "name": "python3",
      "display_name": "Python 3"
    }
  },
  "cells": [
    {
      "cell_type": "markdown",
      "metadata": {
        "id": "4nrPCG33chPC"
      },
      "source": [
        "\n",
        "<img src=\"https://www.inderdhillon.com/files/logo-gray.png\" width=\"100\">\n",
        "\n",
        "<h1>Enterprise Return Offer Analysis</h1>\n",
        "<b>Inder Dhillon</b><br>\n",
        "<i>inderdhillon.com</i><br><br>\n",
        "A very serious and definitely <strike>not a satire</strike> analysis on my chances of getting a return offer based on past data. <br><br>Source of Data :\n",
        "One of the slides from the onboarding deck.\n",
        "<hr><br>"
      ]
    },
    {
      "cell_type": "markdown",
      "metadata": {
        "id": "Zc03OOZ2PNOQ"
      },
      "source": [
        "# Prologue"
      ]
    },
    {
      "cell_type": "markdown",
      "metadata": {
        "id": "JfAciYMOeHiQ"
      },
      "source": [
        "Importing Libraries:"
      ]
    },
    {
      "cell_type": "code",
      "metadata": {
        "id": "Oy0UflYFcR-K"
      },
      "source": [
        "import pandas as pd\n",
        "import numpy as np\n",
        "import seaborn as sns\n",
        "import matplotlib.pyplot as plt\n",
        "from sklearn.linear_model import LinearRegression\n",
        "from sklearn.linear_model import Lasso\n",
        "from sklearn.ensemble import GradientBoostingRegressor"
      ],
      "execution_count": null,
      "outputs": []
    },
    {
      "cell_type": "markdown",
      "metadata": {
        "id": "05-2iIRo8sYE"
      },
      "source": [
        "It's just 3 rows and 6 columns of data I could just enter it in. Or, I could go the hard route and read it from the ppt."
      ]
    },
    {
      "cell_type": "code",
      "metadata": {
        "id": "gs6U0ZnzeOjL"
      },
      "source": [
        "pip install python-pptx"
      ],
      "execution_count": null,
      "outputs": []
    },
    {
      "cell_type": "code",
      "metadata": {
        "id": "PQGyXgfu4JNp"
      },
      "source": [
        "pd.set_option('display.max_columns', None)"
      ],
      "execution_count": null,
      "outputs": []
    },
    {
      "cell_type": "code",
      "metadata": {
        "id": "bqZQYBYSgwWb"
      },
      "source": [
        "from pptx import Presentation"
      ],
      "execution_count": null,
      "outputs": []
    },
    {
      "cell_type": "code",
      "metadata": {
        "id": "8wlX3XrxgzLm"
      },
      "source": [
        "prs = Presentation(\"/content/drive/My Drive/Colab Files/Return Offer/Builder Intern Onboarding Orientation Session_Master Deck 2020.pptx\")"
      ],
      "execution_count": null,
      "outputs": []
    },
    {
      "cell_type": "markdown",
      "metadata": {
        "id": "i5qZPCmC9DS5"
      },
      "source": [
        "Using _domain knowledge_ to choose the slide which has the table."
      ]
    },
    {
      "cell_type": "code",
      "metadata": {
        "id": "rtJpmo7tg-TA"
      },
      "source": [
        "data_slide = prs.slides[35]"
      ],
      "execution_count": null,
      "outputs": []
    },
    {
      "cell_type": "code",
      "metadata": {
        "id": "yWOxl-IEkyy0"
      },
      "source": [
        "for shape in data_slide.shapes:\n",
        "  if shape.has_table:\n",
        "    table = shape.table"
      ],
      "execution_count": null,
      "outputs": []
    },
    {
      "cell_type": "markdown",
      "metadata": {
        "id": "fkk3B2BF9Osf"
      },
      "source": [
        "I am surprised the python pptx doesn't have the following helper methods, maybe I'll contribute to the project. (Edit: I tried, guess the project is not taking contributions)."
      ]
    },
    {
      "cell_type": "code",
      "metadata": {
        "id": "P-Xf-D99qPh9",
        "colab": {
          "base_uri": "https://localhost:8080/",
          "height": 34
        },
        "outputId": "473e0d1e-6d52-4880-c538-e90a3744f65d"
      },
      "source": [
        "def table_to_df(table, header = True):\n",
        "  i = 0\n",
        "  if header is True:\n",
        "    table_df = pd.DataFrame(columns=to_list(table.rows[0]))\n",
        "    print(type(table.rows))\n",
        "\n",
        "  for row in table.rows:\n",
        "    table_df.loc[i] = to_list(row)\n",
        "    i += 1\n",
        "  table_df = table_df.drop(index=[0])\n",
        "  return table_df\n",
        "\n",
        "def to_list(row):\n",
        "  row_list = []\n",
        "  for cell in row.cells:\n",
        "      row_list.append(cell.text)\n",
        "  return row_list\n",
        "\n",
        "df = table_to_df(table)"
      ],
      "execution_count": null,
      "outputs": [
        {
          "output_type": "stream",
          "text": [
            "<class 'pptx.table._RowCollection'>\n"
          ],
          "name": "stdout"
        }
      ]
    },
    {
      "cell_type": "markdown",
      "metadata": {
        "id": "2Gx_Sjz29jcy"
      },
      "source": [
        "Cleaning the data to my preferences:"
      ]
    },
    {
      "cell_type": "code",
      "metadata": {
        "id": "lF89NMvN9m71",
        "colab": {
          "base_uri": "https://localhost:8080/",
          "height": 218
        },
        "outputId": "0f3677ff-c4c5-4847-e174-d5b928575ba9"
      },
      "source": [
        "df = df.set_index([\"\"])\n",
        "df"
      ],
      "execution_count": null,
      "outputs": [
        {
          "output_type": "execute_result",
          "data": {
            "text/html": [
              "<div>\n",
              "<style scoped>\n",
              "    .dataframe tbody tr th:only-of-type {\n",
              "        vertical-align: middle;\n",
              "    }\n",
              "\n",
              "    .dataframe tbody tr th {\n",
              "        vertical-align: top;\n",
              "    }\n",
              "\n",
              "    .dataframe thead th {\n",
              "        text-align: right;\n",
              "    }\n",
              "</style>\n",
              "<table border=\"1\" class=\"dataframe\">\n",
              "  <thead>\n",
              "    <tr style=\"text-align: right;\">\n",
              "      <th></th>\n",
              "      <th>2015</th>\n",
              "      <th>2016</th>\n",
              "      <th>2017</th>\n",
              "      <th>2018</th>\n",
              "      <th>2019</th>\n",
              "      <th>2020</th>\n",
              "    </tr>\n",
              "    <tr>\n",
              "      <th></th>\n",
              "      <th></th>\n",
              "      <th></th>\n",
              "      <th></th>\n",
              "      <th></th>\n",
              "      <th></th>\n",
              "      <th></th>\n",
              "    </tr>\n",
              "  </thead>\n",
              "  <tbody>\n",
              "    <tr>\n",
              "      <th>Build Centers</th>\n",
              "      <td>SEA</td>\n",
              "      <td>SEA\\nCHI</td>\n",
              "      <td>SEA\\nCHI\\nBOS</td>\n",
              "      <td>SEA\\nCHI\\nBOS\\nTOR</td>\n",
              "      <td>SEA\\nCHI\\nBOS\\nTOR\\nDEN\\nHOU</td>\n",
              "      <td>SEA\\nCHI\\nBOS\\nTOR\\nDEN\\nHOU\\nATL\\nCLT</td>\n",
              "    </tr>\n",
              "    <tr>\n",
              "      <th># of Interns</th>\n",
              "      <td>3</td>\n",
              "      <td>8</td>\n",
              "      <td>14</td>\n",
              "      <td>20</td>\n",
              "      <td>30</td>\n",
              "      <td>51</td>\n",
              "    </tr>\n",
              "    <tr>\n",
              "      <th>Product(s)</th>\n",
              "      <td>Mobile MyTime</td>\n",
              "      <td>Profile Builder\\nStaffing Analysis</td>\n",
              "      <td>Slalom Expenses Web + Mobile</td>\n",
              "      <td>Candidate Experience App\\nSlalom ChatBot</td>\n",
              "      <td>Project HACK\\nBuild Center Experience App\\nOpe...</td>\n",
              "      <td>Open Source PEM R2\\nBuild Center Experience En...</td>\n",
              "    </tr>\n",
              "    <tr>\n",
              "      <th># of Applicants</th>\n",
              "      <td>302</td>\n",
              "      <td>1,004</td>\n",
              "      <td>1,511</td>\n",
              "      <td>1,436</td>\n",
              "      <td>3,512</td>\n",
              "      <td>4,488</td>\n",
              "    </tr>\n",
              "    <tr>\n",
              "      <th># of Hires</th>\n",
              "      <td>3</td>\n",
              "      <td>7</td>\n",
              "      <td>4</td>\n",
              "      <td>12</td>\n",
              "      <td>16 Offers to date</td>\n",
              "      <td>TBD</td>\n",
              "    </tr>\n",
              "  </tbody>\n",
              "</table>\n",
              "</div>"
            ],
            "text/plain": [
              "                          2015                                2016  \\\n",
              "                                                                     \n",
              "Build Centers              SEA                            SEA\\nCHI   \n",
              "# of Interns                 3                                   8   \n",
              "Product(s)       Mobile MyTime  Profile Builder\\nStaffing Analysis   \n",
              "# of Applicants            302                               1,004   \n",
              "# of Hires                   3                                   7   \n",
              "\n",
              "                                         2017  \\\n",
              "                                                \n",
              "Build Centers                   SEA\\nCHI\\nBOS   \n",
              "# of Interns                               14   \n",
              "Product(s)       Slalom Expenses Web + Mobile   \n",
              "# of Applicants                         1,511   \n",
              "# of Hires                                 4    \n",
              "\n",
              "                                                     2018  \\\n",
              "                                                            \n",
              "Build Centers                          SEA\\nCHI\\nBOS\\nTOR   \n",
              "# of Interns                                           20   \n",
              "Product(s)       Candidate Experience App\\nSlalom ChatBot   \n",
              "# of Applicants                                    1,436    \n",
              "# of Hires                                             12   \n",
              "\n",
              "                                                              2019  \\\n",
              "                                                                     \n",
              "Build Centers                         SEA\\nCHI\\nBOS\\nTOR\\nDEN\\nHOU   \n",
              "# of Interns                                                    30   \n",
              "Product(s)       Project HACK\\nBuild Center Experience App\\nOpe...   \n",
              "# of Applicants                                              3,512   \n",
              "# of Hires                                       16 Offers to date   \n",
              "\n",
              "                                                              2020  \n",
              "                                                                    \n",
              "Build Centers               SEA\\nCHI\\nBOS\\nTOR\\nDEN\\nHOU\\nATL\\nCLT  \n",
              "# of Interns                                                    51  \n",
              "Product(s)       Open Source PEM R2\\nBuild Center Experience En...  \n",
              "# of Applicants                                              4,488  \n",
              "# of Hires                                                     TBD  "
            ]
          },
          "metadata": {
            "tags": []
          },
          "execution_count": 79
        }
      ]
    },
    {
      "cell_type": "code",
      "metadata": {
        "id": "8eqiAwUz7hlV"
      },
      "source": [
        "df.loc[ 'Build Centers' , :] = df.loc[ 'Build Centers' , :].str.replace(\"\\n\", \",\")\n",
        "df.loc[ 'Product(s)' , :] = df.loc[ 'Product(s)' , :].str.replace(\"\\n\", \",\")\n",
        "df.loc[ '# of Applicants' , :] = df.loc[ '# of Applicants' , :].str.replace(\",\", \"\")\n",
        "df = df.transpose()"
      ],
      "execution_count": null,
      "outputs": []
    },
    {
      "cell_type": "code",
      "metadata": {
        "id": "NUX7ZxQI-smj",
        "colab": {
          "base_uri": "https://localhost:8080/",
          "height": 235
        },
        "outputId": "d760a16b-311a-4fcf-c16f-df56ee3ea2c1"
      },
      "source": [
        "df"
      ],
      "execution_count": null,
      "outputs": [
        {
          "output_type": "execute_result",
          "data": {
            "text/html": [
              "<div>\n",
              "<style scoped>\n",
              "    .dataframe tbody tr th:only-of-type {\n",
              "        vertical-align: middle;\n",
              "    }\n",
              "\n",
              "    .dataframe tbody tr th {\n",
              "        vertical-align: top;\n",
              "    }\n",
              "\n",
              "    .dataframe thead th {\n",
              "        text-align: right;\n",
              "    }\n",
              "</style>\n",
              "<table border=\"1\" class=\"dataframe\">\n",
              "  <thead>\n",
              "    <tr style=\"text-align: right;\">\n",
              "      <th></th>\n",
              "      <th>Build Centers</th>\n",
              "      <th># of Interns</th>\n",
              "      <th>Product(s)</th>\n",
              "      <th># of Applicants</th>\n",
              "      <th># of Hires</th>\n",
              "    </tr>\n",
              "  </thead>\n",
              "  <tbody>\n",
              "    <tr>\n",
              "      <th>2015</th>\n",
              "      <td>SEA</td>\n",
              "      <td>3</td>\n",
              "      <td>Mobile MyTime</td>\n",
              "      <td>302</td>\n",
              "      <td>3</td>\n",
              "    </tr>\n",
              "    <tr>\n",
              "      <th>2016</th>\n",
              "      <td>SEA,CHI</td>\n",
              "      <td>8</td>\n",
              "      <td>Profile Builder,Staffing Analysis</td>\n",
              "      <td>1004</td>\n",
              "      <td>7</td>\n",
              "    </tr>\n",
              "    <tr>\n",
              "      <th>2017</th>\n",
              "      <td>SEA,CHI,BOS</td>\n",
              "      <td>14</td>\n",
              "      <td>Slalom Expenses Web + Mobile</td>\n",
              "      <td>1511</td>\n",
              "      <td>4</td>\n",
              "    </tr>\n",
              "    <tr>\n",
              "      <th>2018</th>\n",
              "      <td>SEA,CHI,BOS,TOR</td>\n",
              "      <td>20</td>\n",
              "      <td>Candidate Experience App,Slalom ChatBot</td>\n",
              "      <td>1436</td>\n",
              "      <td>12</td>\n",
              "    </tr>\n",
              "    <tr>\n",
              "      <th>2019</th>\n",
              "      <td>SEA,CHI,BOS,TOR,DEN,HOU</td>\n",
              "      <td>30</td>\n",
              "      <td>Project HACK,Build Center Experience App,Open ...</td>\n",
              "      <td>3512</td>\n",
              "      <td>16 Offers to date</td>\n",
              "    </tr>\n",
              "    <tr>\n",
              "      <th>2020</th>\n",
              "      <td>SEA,CHI,BOS,TOR,DEN,HOU,ATL,CLT</td>\n",
              "      <td>51</td>\n",
              "      <td>Open Source PEM R2,Build Center Experience Enh...</td>\n",
              "      <td>4488</td>\n",
              "      <td>TBD</td>\n",
              "    </tr>\n",
              "  </tbody>\n",
              "</table>\n",
              "</div>"
            ],
            "text/plain": [
              "                        Build Centers # of Interns  \\\n",
              "2015                              SEA            3   \n",
              "2016                          SEA,CHI            8   \n",
              "2017                      SEA,CHI,BOS           14   \n",
              "2018                  SEA,CHI,BOS,TOR           20   \n",
              "2019          SEA,CHI,BOS,TOR,DEN,HOU           30   \n",
              "2020  SEA,CHI,BOS,TOR,DEN,HOU,ATL,CLT           51   \n",
              "\n",
              "                                             Product(s) # of Applicants  \\\n",
              "2015                                      Mobile MyTime             302   \n",
              "2016                  Profile Builder,Staffing Analysis            1004   \n",
              "2017                       Slalom Expenses Web + Mobile            1511   \n",
              "2018            Candidate Experience App,Slalom ChatBot           1436    \n",
              "2019  Project HACK,Build Center Experience App,Open ...            3512   \n",
              "2020  Open Source PEM R2,Build Center Experience Enh...            4488   \n",
              "\n",
              "             # of Hires  \n",
              "2015                  3  \n",
              "2016                  7  \n",
              "2017                 4   \n",
              "2018                 12  \n",
              "2019  16 Offers to date  \n",
              "2020                TBD  "
            ]
          },
          "metadata": {
            "tags": []
          },
          "execution_count": 81
        }
      ]
    },
    {
      "cell_type": "code",
      "metadata": {
        "id": "RGDlw_yLCd_-"
      },
      "source": [
        "df.loc[ '2019', '# of Hires'] = \"16\"\n",
        "df.loc[ '2020', '# of Hires'] = \"-1\"\n",
        "df[\"Year\"] = df.index.values\n",
        "df[\"Year\"] = pd.to_numeric(df[\"Year\"])\n",
        "df[\"# of Interns\"] = pd.to_numeric(df[\"# of Interns\"])\n",
        "df[\"# of Applicants\"] = pd.to_numeric(df[\"# of Applicants\"])\n",
        "df[\"# of Hires\"] = pd.to_numeric(df[\"# of Hires\"])\n",
        "df.reset_index(inplace=True, drop=True)"
      ],
      "execution_count": null,
      "outputs": []
    },
    {
      "cell_type": "code",
      "metadata": {
        "id": "zv1gWCmw-wRX",
        "colab": {
          "base_uri": "https://localhost:8080/",
          "height": 238
        },
        "outputId": "048c50ba-8a11-4928-ded4-9f6aa130dd2e"
      },
      "source": [
        "df.info()"
      ],
      "execution_count": null,
      "outputs": [
        {
          "output_type": "stream",
          "text": [
            "<class 'pandas.core.frame.DataFrame'>\n",
            "RangeIndex: 6 entries, 0 to 5\n",
            "Data columns (total 6 columns):\n",
            " #   Column           Non-Null Count  Dtype \n",
            "---  ------           --------------  ----- \n",
            " 0   Build Centers    6 non-null      object\n",
            " 1   # of Interns     6 non-null      int64 \n",
            " 2   Product(s)       6 non-null      object\n",
            " 3   # of Applicants  6 non-null      int64 \n",
            " 4   # of Hires       6 non-null      int64 \n",
            " 5   Year             6 non-null      int64 \n",
            "dtypes: int64(4), object(2)\n",
            "memory usage: 416.0+ bytes\n"
          ],
          "name": "stdout"
        }
      ]
    },
    {
      "cell_type": "markdown",
      "metadata": {
        "id": "IRYYVh5e9oQk"
      },
      "source": [
        "We finally have our data which would have taken significantly less time if I just entered it:"
      ]
    },
    {
      "cell_type": "code",
      "metadata": {
        "id": "btQHxkPN9hIM",
        "colab": {
          "base_uri": "https://localhost:8080/",
          "height": 235
        },
        "outputId": "befc1832-d904-4d4e-bf38-485dd5a5d36e"
      },
      "source": [
        "df"
      ],
      "execution_count": null,
      "outputs": [
        {
          "output_type": "execute_result",
          "data": {
            "text/html": [
              "<div>\n",
              "<style scoped>\n",
              "    .dataframe tbody tr th:only-of-type {\n",
              "        vertical-align: middle;\n",
              "    }\n",
              "\n",
              "    .dataframe tbody tr th {\n",
              "        vertical-align: top;\n",
              "    }\n",
              "\n",
              "    .dataframe thead th {\n",
              "        text-align: right;\n",
              "    }\n",
              "</style>\n",
              "<table border=\"1\" class=\"dataframe\">\n",
              "  <thead>\n",
              "    <tr style=\"text-align: right;\">\n",
              "      <th></th>\n",
              "      <th>Build Centers</th>\n",
              "      <th># of Interns</th>\n",
              "      <th>Product(s)</th>\n",
              "      <th># of Applicants</th>\n",
              "      <th># of Hires</th>\n",
              "      <th>Year</th>\n",
              "    </tr>\n",
              "  </thead>\n",
              "  <tbody>\n",
              "    <tr>\n",
              "      <th>0</th>\n",
              "      <td>SEA</td>\n",
              "      <td>3</td>\n",
              "      <td>Mobile MyTime</td>\n",
              "      <td>302</td>\n",
              "      <td>3</td>\n",
              "      <td>2015</td>\n",
              "    </tr>\n",
              "    <tr>\n",
              "      <th>1</th>\n",
              "      <td>SEA,CHI</td>\n",
              "      <td>8</td>\n",
              "      <td>Profile Builder,Staffing Analysis</td>\n",
              "      <td>1004</td>\n",
              "      <td>7</td>\n",
              "      <td>2016</td>\n",
              "    </tr>\n",
              "    <tr>\n",
              "      <th>2</th>\n",
              "      <td>SEA,CHI,BOS</td>\n",
              "      <td>14</td>\n",
              "      <td>Slalom Expenses Web + Mobile</td>\n",
              "      <td>1511</td>\n",
              "      <td>4</td>\n",
              "      <td>2017</td>\n",
              "    </tr>\n",
              "    <tr>\n",
              "      <th>3</th>\n",
              "      <td>SEA,CHI,BOS,TOR</td>\n",
              "      <td>20</td>\n",
              "      <td>Candidate Experience App,Slalom ChatBot</td>\n",
              "      <td>1436</td>\n",
              "      <td>12</td>\n",
              "      <td>2018</td>\n",
              "    </tr>\n",
              "    <tr>\n",
              "      <th>4</th>\n",
              "      <td>SEA,CHI,BOS,TOR,DEN,HOU</td>\n",
              "      <td>30</td>\n",
              "      <td>Project HACK,Build Center Experience App,Open ...</td>\n",
              "      <td>3512</td>\n",
              "      <td>16</td>\n",
              "      <td>2019</td>\n",
              "    </tr>\n",
              "    <tr>\n",
              "      <th>5</th>\n",
              "      <td>SEA,CHI,BOS,TOR,DEN,HOU,ATL,CLT</td>\n",
              "      <td>51</td>\n",
              "      <td>Open Source PEM R2,Build Center Experience Enh...</td>\n",
              "      <td>4488</td>\n",
              "      <td>-1</td>\n",
              "      <td>2020</td>\n",
              "    </tr>\n",
              "  </tbody>\n",
              "</table>\n",
              "</div>"
            ],
            "text/plain": [
              "                     Build Centers  # of Interns  \\\n",
              "0                              SEA             3   \n",
              "1                          SEA,CHI             8   \n",
              "2                      SEA,CHI,BOS            14   \n",
              "3                  SEA,CHI,BOS,TOR            20   \n",
              "4          SEA,CHI,BOS,TOR,DEN,HOU            30   \n",
              "5  SEA,CHI,BOS,TOR,DEN,HOU,ATL,CLT            51   \n",
              "\n",
              "                                          Product(s)  # of Applicants  \\\n",
              "0                                      Mobile MyTime              302   \n",
              "1                  Profile Builder,Staffing Analysis             1004   \n",
              "2                       Slalom Expenses Web + Mobile             1511   \n",
              "3            Candidate Experience App,Slalom ChatBot             1436   \n",
              "4  Project HACK,Build Center Experience App,Open ...             3512   \n",
              "5  Open Source PEM R2,Build Center Experience Enh...             4488   \n",
              "\n",
              "   # of Hires  Year  \n",
              "0           3  2015  \n",
              "1           7  2016  \n",
              "2           4  2017  \n",
              "3          12  2018  \n",
              "4          16  2019  \n",
              "5          -1  2020  "
            ]
          },
          "metadata": {
            "tags": []
          },
          "execution_count": 84
        }
      ]
    },
    {
      "cell_type": "markdown",
      "metadata": {
        "id": "dlais5PUTyJJ"
      },
      "source": [
        "Plotting a regression graph to try visualize if there seems to be a strong correlation:\n",
        "\n"
      ]
    },
    {
      "cell_type": "code",
      "metadata": {
        "id": "phpUTXgyozee",
        "colab": {
          "base_uri": "https://localhost:8080/",
          "height": 501
        },
        "outputId": "2fc7e5ec-ece0-4da0-d948-82427bc6c7ba"
      },
      "source": [
        "sns.set_style(\"whitegrid\")\n",
        "plt.figure(figsize=(12,8))\n",
        "plt.xlim(0,30)\n",
        "plt.ylim(0,60)\n",
        "sns.regplot(x=\"# of Hires\", y=\"# of Interns\", data=df.drop(5), marker='x', truncate=False, ci=0)\n",
        "sns.despine(left=True, bottom=True)"
      ],
      "execution_count": null,
      "outputs": [
        {
          "output_type": "display_data",
          "data": {
            "image/png": "[encoded data removed]",
            "text/plain": [
              "<Figure size 864x576 with 1 Axes>"
            ]
          },
          "metadata": {
            "tags": []
          }
        }
      ]
    },
    {
      "cell_type": "code",
      "metadata": {
        "id": "POE_QYkGYnF_",
        "colab": {
          "base_uri": "https://localhost:8080/",
          "height": 296
        },
        "outputId": "d8af85bb-5f16-41ca-d944-84e2a69bea05"
      },
      "source": [
        "sns.residplot(x=\"# of Hires\", y=\"# of Interns\", data=df.drop(5))"
      ],
      "execution_count": null,
      "outputs": [
        {
          "output_type": "execute_result",
          "data": {
            "text/plain": [
              "<matplotlib.axes._subplots.AxesSubplot at 0x7ff7fa653668>"
            ]
          },
          "metadata": {
            "tags": []
          },
          "execution_count": 86
        },
        {
          "output_type": "display_data",
          "data": {
            "image/png": "[encoded data removed]",
            "text/plain": [
              "<Figure size 432x288 with 1 Axes>"
            ]
          },
          "metadata": {
            "tags": []
          }
        }
      ]
    },
    {
      "cell_type": "markdown",
      "metadata": {
        "id": "CaVsm7rL4Cc6"
      },
      "source": [
        "Seems like there's enough to work with here. Also I won't be doing a train/test split or cross validation (*sacrilege*) because of the size of the dataset, we are just swinging for the fences here:"
      ]
    },
    {
      "cell_type": "code",
      "metadata": {
        "id": "LXrul8J2w51f"
      },
      "source": [
        "df_past_data = df.drop(5)"
      ],
      "execution_count": null,
      "outputs": []
    },
    {
      "cell_type": "code",
      "metadata": {
        "id": "2D_ZN0v3ZF2C",
        "colab": {
          "base_uri": "https://localhost:8080/",
          "height": 204
        },
        "outputId": "5f335bd4-8043-478c-d4fe-9109dcc4fe11"
      },
      "source": [
        "df_past_data"
      ],
      "execution_count": null,
      "outputs": [
        {
          "output_type": "execute_result",
          "data": {
            "text/html": [
              "<div>\n",
              "<style scoped>\n",
              "    .dataframe tbody tr th:only-of-type {\n",
              "        vertical-align: middle;\n",
              "    }\n",
              "\n",
              "    .dataframe tbody tr th {\n",
              "        vertical-align: top;\n",
              "    }\n",
              "\n",
              "    .dataframe thead th {\n",
              "        text-align: right;\n",
              "    }\n",
              "</style>\n",
              "<table border=\"1\" class=\"dataframe\">\n",
              "  <thead>\n",
              "    <tr style=\"text-align: right;\">\n",
              "      <th></th>\n",
              "      <th>Build Centers</th>\n",
              "      <th># of Interns</th>\n",
              "      <th>Product(s)</th>\n",
              "      <th># of Applicants</th>\n",
              "      <th># of Hires</th>\n",
              "      <th>Year</th>\n",
              "    </tr>\n",
              "  </thead>\n",
              "  <tbody>\n",
              "    <tr>\n",
              "      <th>0</th>\n",
              "      <td>SEA</td>\n",
              "      <td>3</td>\n",
              "      <td>Mobile MyTime</td>\n",
              "      <td>302</td>\n",
              "      <td>3</td>\n",
              "      <td>2015</td>\n",
              "    </tr>\n",
              "    <tr>\n",
              "      <th>1</th>\n",
              "      <td>SEA,CHI</td>\n",
              "      <td>8</td>\n",
              "      <td>Profile Builder,Staffing Analysis</td>\n",
              "      <td>1004</td>\n",
              "      <td>7</td>\n",
              "      <td>2016</td>\n",
              "    </tr>\n",
              "    <tr>\n",
              "      <th>2</th>\n",
              "      <td>SEA,CHI,BOS</td>\n",
              "      <td>14</td>\n",
              "      <td>Slalom Expenses Web + Mobile</td>\n",
              "      <td>1511</td>\n",
              "      <td>4</td>\n",
              "      <td>2017</td>\n",
              "    </tr>\n",
              "    <tr>\n",
              "      <th>3</th>\n",
              "      <td>SEA,CHI,BOS,TOR</td>\n",
              "      <td>20</td>\n",
              "      <td>Candidate Experience App,Slalom ChatBot</td>\n",
              "      <td>1436</td>\n",
              "      <td>12</td>\n",
              "      <td>2018</td>\n",
              "    </tr>\n",
              "    <tr>\n",
              "      <th>4</th>\n",
              "      <td>SEA,CHI,BOS,TOR,DEN,HOU</td>\n",
              "      <td>30</td>\n",
              "      <td>Project HACK,Build Center Experience App,Open ...</td>\n",
              "      <td>3512</td>\n",
              "      <td>16</td>\n",
              "      <td>2019</td>\n",
              "    </tr>\n",
              "  </tbody>\n",
              "</table>\n",
              "</div>"
            ],
            "text/plain": [
              "             Build Centers  # of Interns  \\\n",
              "0                      SEA             3   \n",
              "1                  SEA,CHI             8   \n",
              "2              SEA,CHI,BOS            14   \n",
              "3          SEA,CHI,BOS,TOR            20   \n",
              "4  SEA,CHI,BOS,TOR,DEN,HOU            30   \n",
              "\n",
              "                                          Product(s)  # of Applicants  \\\n",
              "0                                      Mobile MyTime              302   \n",
              "1                  Profile Builder,Staffing Analysis             1004   \n",
              "2                       Slalom Expenses Web + Mobile             1511   \n",
              "3            Candidate Experience App,Slalom ChatBot             1436   \n",
              "4  Project HACK,Build Center Experience App,Open ...             3512   \n",
              "\n",
              "   # of Hires  Year  \n",
              "0           3  2015  \n",
              "1           7  2016  \n",
              "2           4  2017  \n",
              "3          12  2018  \n",
              "4          16  2019  "
            ]
          },
          "metadata": {
            "tags": []
          },
          "execution_count": 88
        }
      ]
    },
    {
      "cell_type": "code",
      "metadata": {
        "id": "kLhkW0DFaWKF"
      },
      "source": [
        "X = df_past_data[[\"# of Interns\"]]\n",
        "y = df_past_data[[\"# of Hires\"]]"
      ],
      "execution_count": null,
      "outputs": []
    },
    {
      "cell_type": "markdown",
      "metadata": {
        "id": "zys27WIHO_l7"
      },
      "source": [
        "# 1. Linear Regression"
      ]
    },
    {
      "cell_type": "code",
      "metadata": {
        "id": "lQDohV4qag7V",
        "colab": {
          "base_uri": "https://localhost:8080/"
        },
        "outputId": "7b600890-a6c3-4757-dd89-6cf925bc73ac"
      },
      "source": [
        "lm = LinearRegression()\n",
        "lm.fit(X,y)"
      ],
      "execution_count": null,
      "outputs": [
        {
          "output_type": "execute_result",
          "data": {
            "text/plain": [
              "LinearRegression(copy_X=True, fit_intercept=True, n_jobs=None, normalize=False)"
            ]
          },
          "metadata": {
            "tags": []
          },
          "execution_count": 90
        }
      ]
    },
    {
      "cell_type": "code",
      "metadata": {
        "id": "73Mxfa53amYX"
      },
      "source": [
        "yhat = lm.predict([[51]])"
      ],
      "execution_count": null,
      "outputs": []
    },
    {
      "cell_type": "code",
      "metadata": {
        "id": "84e9_SMdrdDN",
        "colab": {
          "base_uri": "https://localhost:8080/"
        },
        "outputId": "f524f22f-83df-45b5-9312-dcc478cf337a"
      },
      "source": [
        "print(\"R-squared score: \" , lm.score(X, y))"
      ],
      "execution_count": null,
      "outputs": [
        {
          "output_type": "stream",
          "text": [
            "R-squared score:  0.8273310439152023\n"
          ],
          "name": "stdout"
        }
      ]
    },
    {
      "cell_type": "markdown",
      "metadata": {
        "id": "j-KdEvPfh2dI"
      },
      "source": [
        "Wow a great R^2 score on training data, I should be confident in my prediction now (*LOL*)"
      ]
    },
    {
      "cell_type": "code",
      "metadata": {
        "id": "KszekskAgrQE",
        "colab": {
          "base_uri": "https://localhost:8080/"
        },
        "outputId": "96c14937-7128-46ce-a7e0-4b84b809f88c"
      },
      "source": [
        "df.iloc[5,4] = round(yhat[0][0], 0)\n",
        "print(\"Predicted number of hires for 2020: \", df.iloc[5,4])"
      ],
      "execution_count": null,
      "outputs": [
        {
          "output_type": "stream",
          "text": [
            "Predicted number of hires for 2020:  26.0\n"
          ],
          "name": "stdout"
        }
      ]
    },
    {
      "cell_type": "markdown",
      "metadata": {
        "id": "2rYrWUZPjoMI"
      },
      "source": [
        "So, based on past data 26 interns should get hired in the 2020 internship term across all locations.\n",
        "<br><br>\n",
        "![alt text](https://everanalytics.files.wordpress.com/2015/07/01_dilbertcartoon1.gif?w=748)"
      ]
    },
    {
      "cell_type": "code",
      "metadata": {
        "id": "5IaMfymSidoR",
        "colab": {
          "base_uri": "https://localhost:8080/"
        },
        "outputId": "400e8ec7-2305-440d-f4d0-4b58a77e6b9d"
      },
      "source": [
        "print(\"Probability of an intern to get hired full-time: \", df.loc[5,\"# of Hires\"]/df.loc[5,\"# of Interns\"])"
      ],
      "execution_count": null,
      "outputs": [
        {
          "output_type": "stream",
          "text": [
            "Probability of an intern to get hired full-time:  0.5098039215686274\n"
          ],
          "name": "stdout"
        }
      ]
    },
    {
      "cell_type": "markdown",
      "metadata": {
        "id": "cS_xPae_vTBX"
      },
      "source": [
        "I know what you're thinking (DAs can read your mind), getting a return offer is a yes/no question so if we had no data at all, the probability of getting a return offer would be 0.50 as there are only two choices. Hence, this analysis is useless. And I would agree, except the probability is not 0.50 it's **0.51**. So, clearly my labour has generated some insightful, well *insights*."
      ]
    },
    {
      "cell_type": "code",
      "metadata": {
        "id": "Xrzxz3Umb1H9",
        "colab": {
          "base_uri": "https://localhost:8080/"
        },
        "outputId": "15db2cd6-17c3-412d-a6eb-f1c53f0094cd"
      },
      "source": [
        "df"
      ],
      "execution_count": null,
      "outputs": [
        {
          "output_type": "execute_result",
          "data": {
            "text/html": [
              "<div>\n",
              "<style scoped>\n",
              "    .dataframe tbody tr th:only-of-type {\n",
              "        vertical-align: middle;\n",
              "    }\n",
              "\n",
              "    .dataframe tbody tr th {\n",
              "        vertical-align: top;\n",
              "    }\n",
              "\n",
              "    .dataframe thead th {\n",
              "        text-align: right;\n",
              "    }\n",
              "</style>\n",
              "<table border=\"1\" class=\"dataframe\">\n",
              "  <thead>\n",
              "    <tr style=\"text-align: right;\">\n",
              "      <th></th>\n",
              "      <th>Build Centers</th>\n",
              "      <th># of Interns</th>\n",
              "      <th>Product(s)</th>\n",
              "      <th># of Applicants</th>\n",
              "      <th># of Hires</th>\n",
              "      <th>Year</th>\n",
              "    </tr>\n",
              "  </thead>\n",
              "  <tbody>\n",
              "    <tr>\n",
              "      <th>0</th>\n",
              "      <td>SEA</td>\n",
              "      <td>3</td>\n",
              "      <td>Mobile MyTime</td>\n",
              "      <td>302</td>\n",
              "      <td>3.0</td>\n",
              "      <td>2015</td>\n",
              "    </tr>\n",
              "    <tr>\n",
              "      <th>1</th>\n",
              "      <td>SEA,CHI</td>\n",
              "      <td>8</td>\n",
              "      <td>Profile Builder,Staffing Analysis</td>\n",
              "      <td>1004</td>\n",
              "      <td>7.0</td>\n",
              "      <td>2016</td>\n",
              "    </tr>\n",
              "    <tr>\n",
              "      <th>2</th>\n",
              "      <td>SEA,CHI,BOS</td>\n",
              "      <td>14</td>\n",
              "      <td>Slalom Expenses Web + Mobile</td>\n",
              "      <td>1511</td>\n",
              "      <td>4.0</td>\n",
              "      <td>2017</td>\n",
              "    </tr>\n",
              "    <tr>\n",
              "      <th>3</th>\n",
              "      <td>SEA,CHI,BOS,TOR</td>\n",
              "      <td>20</td>\n",
              "      <td>Candidate Experience App,Slalom ChatBot</td>\n",
              "      <td>1436</td>\n",
              "      <td>12.0</td>\n",
              "      <td>2018</td>\n",
              "    </tr>\n",
              "    <tr>\n",
              "      <th>4</th>\n",
              "      <td>SEA,CHI,BOS,TOR,DEN,HOU</td>\n",
              "      <td>30</td>\n",
              "      <td>Project HACK,Build Center Experience App,Open ...</td>\n",
              "      <td>3512</td>\n",
              "      <td>16.0</td>\n",
              "      <td>2019</td>\n",
              "    </tr>\n",
              "    <tr>\n",
              "      <th>5</th>\n",
              "      <td>SEA,CHI,BOS,TOR,DEN,HOU,ATL,CLT</td>\n",
              "      <td>51</td>\n",
              "      <td>Open Source PEM R2,Build Center Experience Enh...</td>\n",
              "      <td>4488</td>\n",
              "      <td>26.0</td>\n",
              "      <td>2020</td>\n",
              "    </tr>\n",
              "  </tbody>\n",
              "</table>\n",
              "</div>"
            ],
            "text/plain": [
              "                     Build Centers  # of Interns  \\\n",
              "0                              SEA             3   \n",
              "1                          SEA,CHI             8   \n",
              "2                      SEA,CHI,BOS            14   \n",
              "3                  SEA,CHI,BOS,TOR            20   \n",
              "4          SEA,CHI,BOS,TOR,DEN,HOU            30   \n",
              "5  SEA,CHI,BOS,TOR,DEN,HOU,ATL,CLT            51   \n",
              "\n",
              "                                          Product(s)  # of Applicants  \\\n",
              "0                                      Mobile MyTime              302   \n",
              "1                  Profile Builder,Staffing Analysis             1004   \n",
              "2                       Slalom Expenses Web + Mobile             1511   \n",
              "3            Candidate Experience App,Slalom ChatBot             1436   \n",
              "4  Project HACK,Build Center Experience App,Open ...             3512   \n",
              "5  Open Source PEM R2,Build Center Experience Enh...             4488   \n",
              "\n",
              "   # of Hires  Year  \n",
              "0         3.0  2015  \n",
              "1         7.0  2016  \n",
              "2         4.0  2017  \n",
              "3        12.0  2018  \n",
              "4        16.0  2019  \n",
              "5        26.0  2020  "
            ]
          },
          "metadata": {
            "tags": []
          },
          "execution_count": 95
        }
      ]
    },
    {
      "cell_type": "markdown",
      "metadata": {
        "id": "DRkuUTFpPmzb"
      },
      "source": [
        "# 2. Lasso Regression"
      ]
    },
    {
      "cell_type": "markdown",
      "metadata": {
        "id": "JqpGfmERZ87B"
      },
      "source": [
        "Lasso usually helps for multivariable linear relationship. This is not a multivariable linear relationship. I'm just hoping it does something different."
      ]
    },
    {
      "cell_type": "code",
      "metadata": {
        "id": "Gdm-uu5SPthk"
      },
      "source": [
        "lasso = Lasso()"
      ],
      "execution_count": null,
      "outputs": []
    },
    {
      "cell_type": "code",
      "metadata": {
        "id": "hzazCqGcRul1",
        "colab": {
          "base_uri": "https://localhost:8080/"
        },
        "outputId": "3a119d7d-e258-473d-b091-4054e7fbf5ce"
      },
      "source": [
        "lasso.fit(X,y)"
      ],
      "execution_count": null,
      "outputs": [
        {
          "output_type": "execute_result",
          "data": {
            "text/plain": [
              "Lasso(alpha=1.0, copy_X=True, fit_intercept=True, max_iter=1000,\n",
              "      normalize=False, positive=False, precompute=False, random_state=None,\n",
              "      selection='cyclic', tol=0.0001, warm_start=False)"
            ]
          },
          "metadata": {
            "tags": []
          },
          "execution_count": 97
        }
      ]
    },
    {
      "cell_type": "code",
      "metadata": {
        "id": "QX4kPvCZZ1zD",
        "colab": {
          "base_uri": "https://localhost:8080/"
        },
        "outputId": "aa340de6-64f7-457d-e6e4-5bb716a39918"
      },
      "source": [
        "print(\"R-squared score: \" , lasso.score(X, y))"
      ],
      "execution_count": null,
      "outputs": [
        {
          "output_type": "stream",
          "text": [
            "R-squared score:  0.826866470430827\n"
          ],
          "name": "stdout"
        }
      ]
    },
    {
      "cell_type": "code",
      "metadata": {
        "id": "IjUhKx5vR88_"
      },
      "source": [
        "yhatLasso = lasso.predict([[51]])"
      ],
      "execution_count": null,
      "outputs": []
    },
    {
      "cell_type": "code",
      "metadata": {
        "id": "knipGhoRSD36",
        "colab": {
          "base_uri": "https://localhost:8080/"
        },
        "outputId": "e60d43e0-5fcb-4f78-d9e8-4ab0ba2cea9d"
      },
      "source": [
        "print(\"Predicted number of hires for 2020: \", round(yhatLasso[0], 0))"
      ],
      "execution_count": null,
      "outputs": [
        {
          "output_type": "stream",
          "text": [
            "Predicted number of hires for 2020:  25.0\n"
          ],
          "name": "stdout"
        }
      ]
    },
    {
      "cell_type": "code",
      "metadata": {
        "id": "fILaUFYhSKrj",
        "colab": {
          "base_uri": "https://localhost:8080/"
        },
        "outputId": "d82dffd5-bb54-4f41-cd47-ee5e06a5d283"
      },
      "source": [
        "print(\"Probability of an intern to get hired full-time: \", round(yhatLasso[0], 0)/df.loc[5,\"# of Interns\"])"
      ],
      "execution_count": null,
      "outputs": [
        {
          "output_type": "stream",
          "text": [
            "Probability of an intern to get hired full-time:  0.49019607843137253\n"
          ],
          "name": "stdout"
        }
      ]
    },
    {
      "cell_type": "markdown",
      "metadata": {
        "id": "h8by4utSSRRh"
      },
      "source": [
        "For some reason I like the other model which gave a 2% higher probability.\n",
        "Head over to the epilogue to see me use the years (which I know is a categorical variable) as a quantitative variable in another linear regression."
      ]
    },
    {
      "cell_type": "markdown",
      "metadata": {
        "id": "W0S36Vp4PVqh"
      },
      "source": [
        "# Epilogue:"
      ]
    },
    {
      "cell_type": "markdown",
      "metadata": {
        "id": "e593vS0ePWhD"
      },
      "source": [
        "Let's predict how many applications the recruiters will be going through in 2021 (Don't tell them it'll only make them sad):"
      ]
    },
    {
      "cell_type": "code",
      "metadata": {
        "id": "dEeKFssqvYUl",
        "colab": {
          "base_uri": "https://localhost:8080/",
          "height": 501
        },
        "outputId": "eeb1b4d4-3fec-4e5e-e4aa-3e07974751ae"
      },
      "source": [
        "sns.set_style(\"whitegrid\")\n",
        "plt.figure(figsize=(12,8))\n",
        "plt.xlim(2015,2021.5)\n",
        "plt.ylim(0, 6000)\n",
        "sns.regplot(x=\"Year\", y=\"# of Applicants\", data=df, marker='x', truncate=False, ci=0)\n",
        "sns.despine(left=True, bottom=True)"
      ],
      "execution_count": null,
      "outputs": [
        {
          "output_type": "display_data",
          "data": {
            "image/png": "[encoded data removed]",
            "text/plain": [
              "<Figure size 864x576 with 1 Axes>"
            ]
          },
          "metadata": {
            "tags": []
          }
        }
      ]
    },
    {
      "cell_type": "code",
      "metadata": {
        "id": "P-uk7RutwBsM",
        "colab": {
          "base_uri": "https://localhost:8080/",
          "height": 34
        },
        "outputId": "850f4898-79d6-4e4a-9450-5b1e334e9abb"
      },
      "source": [
        "lm2 = LinearRegression()\n",
        "lm2.fit(df[[\"Year\"]], df[[\"# of Applicants\"]])"
      ],
      "execution_count": null,
      "outputs": [
        {
          "output_type": "execute_result",
          "data": {
            "text/plain": [
              "LinearRegression(copy_X=True, fit_intercept=True, n_jobs=None, normalize=False)"
            ]
          },
          "metadata": {
            "tags": []
          },
          "execution_count": 103
        }
      ]
    },
    {
      "cell_type": "code",
      "metadata": {
        "id": "OvmYpnwhwU_N",
        "colab": {
          "base_uri": "https://localhost:8080/",
          "height": 34
        },
        "outputId": "2837ef09-5bf4-44f7-d4ef-7ec86c62bfbd"
      },
      "source": [
        "yhat2 = lm2.predict([[2021]])\n",
        "print(\"Predicted Number of Applicants for 2021: \", round(yhat2[0][0], 0))"
      ],
      "execution_count": null,
      "outputs": [
        {
          "output_type": "stream",
          "text": [
            "Predicted Number of Applicants for 2021:  4880.0\n"
          ],
          "name": "stdout"
        }
      ]
    },
    {
      "cell_type": "markdown",
      "metadata": {
        "id": "CmMwQtV2bq0S"
      },
      "source": [
        "# The End"
      ]
    }
  ]
}