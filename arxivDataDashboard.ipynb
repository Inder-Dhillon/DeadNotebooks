{
  "nbformat": 4,
  "nbformat_minor": 0,
  "metadata": {
    "colab": {
      "name": "arxivDataDashboard.ipynb",
      "provenance": [],
      "collapsed_sections": [],
      "toc_visible": true
    },
    "kernelspec": {
      "name": "python3",
      "display_name": "Python 3"
    }
  },
  "cells": [
    {
      "cell_type": "markdown",
      "metadata": {
        "id": "U7ayaLKH5e7v"
      },
      "source": [
        "\n",
        "<img src=\"https://www.inderdhillon.com/files/logo-white.png\" width=\"100\">\n",
        "\n",
        "<h1>arxiv Data Dashboard</h1>\n",
        "<b>Inder Dhillon</b><br>\n",
        "<i>inderdhillon.com</i><br><br>\n",
        "Wanted to brush up on DataViz, using arxiv data on papers with various data science tags for the same. <br><br>Source of Data :\n",
        "https://www.kaggle.com/neelshah18/arxivdataset\n",
        "<hr><br>"
      ]
    },
    {
      "cell_type": "markdown",
      "metadata": {
        "id": "S6OUpqwPU0qL"
      },
      "source": [
        "Installing TabPy"
      ]
    },
    {
      "cell_type": "code",
      "metadata": {
        "id": "uH1wJBbkUcop",
        "colab": {
          "base_uri": "https://localhost:8080/",
          "height": 935
        },
        "outputId": "73288448-afd0-453c-d335-4647c013d31a"
      },
      "source": [
        "pip install TabPy"
      ],
      "execution_count": null,
      "outputs": [
        {
          "output_type": "stream",
          "text": [
            "Collecting TabPy\n",
            "\u001b[?25l  Downloading https://files.pythonhosted.org/packages/57/5a/cc4a6138487e05336f03b0d2b44857da0e5349fae63656d6a9e59bab96e9/tabpy-1.1.0-py2.py3-none-any.whl (81kB)\n",
            "\r\u001b[K     |████                            | 10kB 16.3MB/s eta 0:00:01\r\u001b[K     |████████                        | 20kB 1.8MB/s eta 0:00:01\r\u001b[K     |████████████                    | 30kB 2.3MB/s eta 0:00:01\r\u001b[K     |████████████████                | 40kB 2.6MB/s eta 0:00:01\r\u001b[K     |████████████████████            | 51kB 2.1MB/s eta 0:00:01\r\u001b[K     |████████████████████████        | 61kB 2.4MB/s eta 0:00:01\r\u001b[K     |████████████████████████████    | 71kB 2.6MB/s eta 0:00:01\r\u001b[K     |████████████████████████████████| 81kB 2.3MB/s \n",
            "\u001b[?25hRequirement already satisfied: jsonschema in /usr/local/lib/python3.6/dist-packages (from TabPy) (2.6.0)\n",
            "Collecting simplejson\n",
            "\u001b[?25l  Downloading https://files.pythonhosted.org/packages/98/87/a7b98aa9256c8843f92878966dc3d8d914c14aad97e2c5ce4798d5743e07/simplejson-3.17.0.tar.gz (83kB)\n",
            "\u001b[K     |████████████████████████████████| 92kB 5.9MB/s \n",
            "\u001b[?25hCollecting configparser\n",
            "  Downloading https://files.pythonhosted.org/packages/4b/6b/01baa293090240cf0562cc5eccb69c6f5006282127f2b846fad011305c79/configparser-5.0.0-py3-none-any.whl\n",
            "Collecting genson\n",
            "  Downloading https://files.pythonhosted.org/packages/65/00/7aae36d5ecf483585fba2bacb7c1ccb4ceaf4fcba61f8f9846845300f93b/genson-1.2.1.tar.gz\n",
            "Requirement already satisfied: six in /usr/local/lib/python3.6/dist-packages (from TabPy) (1.12.0)\n",
            "Requirement already satisfied: docopt in /usr/local/lib/python3.6/dist-packages (from TabPy) (0.6.2)\n",
            "Requirement already satisfied: cloudpickle in /usr/local/lib/python3.6/dist-packages (from TabPy) (1.3.0)\n",
            "Requirement already satisfied: future in /usr/local/lib/python3.6/dist-packages (from TabPy) (0.16.0)\n",
            "Requirement already satisfied: nltk in /usr/local/lib/python3.6/dist-packages (from TabPy) (3.2.5)\n",
            "Requirement already satisfied: pandas in /usr/local/lib/python3.6/dist-packages (from TabPy) (1.0.4)\n",
            "Requirement already satisfied: numpy in /usr/local/lib/python3.6/dist-packages (from TabPy) (1.18.4)\n",
            "Requirement already satisfied: scipy in /usr/local/lib/python3.6/dist-packages (from TabPy) (1.4.1)\n",
            "Requirement already satisfied: decorator in /usr/local/lib/python3.6/dist-packages (from TabPy) (4.4.2)\n",
            "Requirement already satisfied: python-dateutil in /usr/local/lib/python3.6/dist-packages (from TabPy) (2.8.1)\n",
            "Collecting pyopenssl\n",
            "\u001b[?25l  Downloading https://files.pythonhosted.org/packages/9e/de/f8342b68fa9e981d348039954657bdf681b2ab93de27443be51865ffa310/pyOpenSSL-19.1.0-py2.py3-none-any.whl (53kB)\n",
            "\u001b[K     |████████████████████████████████| 61kB 4.9MB/s \n",
            "\u001b[?25hRequirement already satisfied: sklearn in /usr/local/lib/python3.6/dist-packages (from TabPy) (0.0)\n",
            "Requirement already satisfied: requests in /usr/local/lib/python3.6/dist-packages (from TabPy) (2.23.0)\n",
            "Collecting singledispatch\n",
            "  Downloading https://files.pythonhosted.org/packages/c5/10/369f50bcd4621b263927b0a1519987a04383d4a98fb10438042ad410cf88/singledispatch-3.4.0.3-py2.py3-none-any.whl\n",
            "Requirement already satisfied: tornado in /usr/local/lib/python3.6/dist-packages (from TabPy) (4.5.3)\n",
            "Collecting backports-abc\n",
            "  Downloading https://files.pythonhosted.org/packages/7d/56/6f3ac1b816d0cd8994e83d0c4e55bc64567532f7dc543378bd87f81cebc7/backports_abc-0.5-py2.py3-none-any.whl\n",
            "Requirement already satisfied: textblob in /usr/local/lib/python3.6/dist-packages (from TabPy) (0.15.3)\n",
            "Requirement already satisfied: urllib3 in /usr/local/lib/python3.6/dist-packages (from TabPy) (1.24.3)\n",
            "Requirement already satisfied: pytz>=2017.2 in /usr/local/lib/python3.6/dist-packages (from pandas->TabPy) (2018.9)\n",
            "Collecting cryptography>=2.8\n",
            "\u001b[?25l  Downloading https://files.pythonhosted.org/packages/3c/04/686efee2dcdd25aecf357992e7d9362f443eb182ecd623f882bc9f7a6bba/cryptography-2.9.2-cp35-abi3-manylinux2010_x86_64.whl (2.7MB)\n",
            "\u001b[K     |████████████████████████████████| 2.7MB 7.5MB/s \n",
            "\u001b[?25hRequirement already satisfied: scikit-learn in /usr/local/lib/python3.6/dist-packages (from sklearn->TabPy) (0.22.2.post1)\n",
            "Requirement already satisfied: certifi>=2017.4.17 in /usr/local/lib/python3.6/dist-packages (from requests->TabPy) (2020.4.5.1)\n",
            "Requirement already satisfied: chardet<4,>=3.0.2 in /usr/local/lib/python3.6/dist-packages (from requests->TabPy) (3.0.4)\n",
            "Requirement already satisfied: idna<3,>=2.5 in /usr/local/lib/python3.6/dist-packages (from requests->TabPy) (2.9)\n",
            "Requirement already satisfied: cffi!=1.11.3,>=1.8 in /usr/local/lib/python3.6/dist-packages (from cryptography>=2.8->pyopenssl->TabPy) (1.14.0)\n",
            "Requirement already satisfied: joblib>=0.11 in /usr/local/lib/python3.6/dist-packages (from scikit-learn->sklearn->TabPy) (0.15.1)\n",
            "Requirement already satisfied: pycparser in /usr/local/lib/python3.6/dist-packages (from cffi!=1.11.3,>=1.8->cryptography>=2.8->pyopenssl->TabPy) (2.20)\n",
            "Building wheels for collected packages: simplejson, genson\n",
            "  Building wheel for simplejson (setup.py) ... \u001b[?25l\u001b[?25hdone\n",
            "  Created wheel for simplejson: filename=simplejson-3.17.0-cp36-cp36m-linux_x86_64.whl size=114214 sha256=3b93313009ef09f1d1fb0dd02322fd5b45d5df9b52a10b2d568d9d5867c6d41a\n",
            "  Stored in directory: /root/.cache/pip/wheels/86/c0/83/dcd0339abb2640544bb8e0938aab2d069cef55e5647ce6e097\n",
            "  Building wheel for genson (setup.py) ... \u001b[?25l\u001b[?25hdone\n",
            "  Created wheel for genson: filename=genson-1.2.1-py2.py3-none-any.whl size=20675 sha256=fa3c9b5a56d38aa91d707f3a8b400987ff8e331b58245997b4b66b1522f93f19\n",
            "  Stored in directory: /root/.cache/pip/wheels/ba/c9/97/4321c713eef14f54e41e02363a5a4c29a509c33f37196455db\n",
            "Successfully built simplejson genson\n",
            "Installing collected packages: simplejson, configparser, genson, cryptography, pyopenssl, singledispatch, backports-abc, TabPy\n",
            "Successfully installed TabPy-1.1.0 backports-abc-0.5 configparser-5.0.0 cryptography-2.9.2 genson-1.2.1 pyopenssl-19.1.0 simplejson-3.17.0 singledispatch-3.4.0.3\n"
          ],
          "name": "stdout"
        }
      ]
    },
    {
      "cell_type": "markdown",
      "metadata": {
        "id": "oLUA1QBhbgqq"
      },
      "source": [
        "Importing Libraries"
      ]
    },
    {
      "cell_type": "code",
      "metadata": {
        "id": "0V9YHXLFUywx"
      },
      "source": [
        "import pandas as pd\n",
        "import numpy as np\n",
        "import tabpy as tp\n",
        "import re"
      ],
      "execution_count": null,
      "outputs": []
    },
    {
      "cell_type": "code",
      "metadata": {
        "id": "nDkL6JKsbr4I"
      },
      "source": [
        "dataset = pd.read_json('/content/drive/My Drive/Colab Files/arxiv Analysis/arxivData.json')"
      ],
      "execution_count": null,
      "outputs": []
    },
    {
      "cell_type": "markdown",
      "metadata": {
        "id": "7GyXI0yF4i32"
      },
      "source": [
        "Changing some preferences for pandas"
      ]
    },
    {
      "cell_type": "code",
      "metadata": {
        "id": "uAQdaRzRcBhl"
      },
      "source": [
        "pd.set_option('display.max_columns', None)"
      ],
      "execution_count": null,
      "outputs": []
    },
    {
      "cell_type": "markdown",
      "metadata": {
        "id": "xLseQoi_4muG"
      },
      "source": [
        "Wrangling the dataset to make it clean"
      ]
    },
    {
      "cell_type": "code",
      "metadata": {
        "id": "Ksh73IdYcBx8",
        "colab": {
          "base_uri": "https://localhost:8080/",
          "height": 595
        },
        "outputId": "7f5f9e7e-f4e0-45b8-8bb5-114fa888bb3a"
      },
      "source": [
        "print(dataset.head(5))"
      ],
      "execution_count": null,
      "outputs": [
        {
          "output_type": "stream",
          "text": [
            "                                              author  day            id  \\\n",
            "0  [{'name': 'Ahmed Osman'}, {'name': 'Wojciech S...    1  1802.00209v1   \n",
            "1  [{'name': 'Ji Young Lee'}, {'name': 'Franck De...   12  1603.03827v1   \n",
            "2  [{'name': 'Iulian Vlad Serban'}, {'name': 'Tim...    2  1606.00776v2   \n",
            "3  [{'name': 'Sebastian Ruder'}, {'name': 'Joachi...   23  1705.08142v2   \n",
            "4  [{'name': 'Iulian V. Serban'}, {'name': 'Chinn...    7  1709.02349v2   \n",
            "\n",
            "                                                link  month  \\\n",
            "0  [{'rel': 'alternate', 'href': 'http://arxiv.or...      2   \n",
            "1  [{'rel': 'alternate', 'href': 'http://arxiv.or...      3   \n",
            "2  [{'rel': 'alternate', 'href': 'http://arxiv.or...      6   \n",
            "3  [{'rel': 'alternate', 'href': 'http://arxiv.or...      5   \n",
            "4  [{'rel': 'alternate', 'href': 'http://arxiv.or...      9   \n",
            "\n",
            "                                             summary  \\\n",
            "0  We propose an architecture for VQA which utili...   \n",
            "1  Recent approaches based on artificial neural n...   \n",
            "2  We introduce the multiresolution recurrent neu...   \n",
            "3  Multi-task learning is motivated by the observ...   \n",
            "4  We present MILABOT: a deep reinforcement learn...   \n",
            "\n",
            "                                                 tag  \\\n",
            "0  [{'term': 'cs.AI', 'scheme': 'http://arxiv.org...   \n",
            "1  [{'term': 'cs.CL', 'scheme': 'http://arxiv.org...   \n",
            "2  [{'term': 'cs.CL', 'scheme': 'http://arxiv.org...   \n",
            "3  [{'term': 'stat.ML', 'scheme': 'http://arxiv.o...   \n",
            "4  [{'term': 'cs.CL', 'scheme': 'http://arxiv.org...   \n",
            "\n",
            "                                               title  year  \n",
            "0  Dual Recurrent Attention Units for Visual Ques...  2018  \n",
            "1  Sequential Short-Text Classification with Recu...  2016  \n",
            "2  Multiresolution Recurrent Neural Networks: An ...  2016  \n",
            "3  Learning what to share between loosely related...  2017  \n",
            "4              A Deep Reinforcement Learning Chatbot  2017  \n"
          ],
          "name": "stdout"
        }
      ]
    },
    {
      "cell_type": "code",
      "metadata": {
        "id": "5SLJBnKyf6EI",
        "colab": {
          "base_uri": "https://localhost:8080/",
          "height": 204
        },
        "outputId": "73d05c7d-809f-471d-daac-d06d6c54b75c"
      },
      "source": [
        "dataset.head(5)"
      ],
      "execution_count": null,
      "outputs": [
        {
          "output_type": "execute_result",
          "data": {
            "text/html": [
              "<div>\n",
              "<style scoped>\n",
              "    .dataframe tbody tr th:only-of-type {\n",
              "        vertical-align: middle;\n",
              "    }\n",
              "\n",
              "    .dataframe tbody tr th {\n",
              "        vertical-align: top;\n",
              "    }\n",
              "\n",
              "    .dataframe thead th {\n",
              "        text-align: right;\n",
              "    }\n",
              "</style>\n",
              "<table border=\"1\" class=\"dataframe\">\n",
              "  <thead>\n",
              "    <tr style=\"text-align: right;\">\n",
              "      <th></th>\n",
              "      <th>author</th>\n",
              "      <th>day</th>\n",
              "      <th>id</th>\n",
              "      <th>link</th>\n",
              "      <th>month</th>\n",
              "      <th>summary</th>\n",
              "      <th>tag</th>\n",
              "      <th>title</th>\n",
              "      <th>year</th>\n",
              "    </tr>\n",
              "  </thead>\n",
              "  <tbody>\n",
              "    <tr>\n",
              "      <th>0</th>\n",
              "      <td>[{'name': 'Ahmed Osman'}, {'name': 'Wojciech S...</td>\n",
              "      <td>1</td>\n",
              "      <td>1802.00209v1</td>\n",
              "      <td>[{'rel': 'alternate', 'href': 'http://arxiv.or...</td>\n",
              "      <td>2</td>\n",
              "      <td>We propose an architecture for VQA which utili...</td>\n",
              "      <td>[{'term': 'cs.AI', 'scheme': 'http://arxiv.org...</td>\n",
              "      <td>Dual Recurrent Attention Units for Visual Ques...</td>\n",
              "      <td>2018</td>\n",
              "    </tr>\n",
              "    <tr>\n",
              "      <th>1</th>\n",
              "      <td>[{'name': 'Ji Young Lee'}, {'name': 'Franck De...</td>\n",
              "      <td>12</td>\n",
              "      <td>1603.03827v1</td>\n",
              "      <td>[{'rel': 'alternate', 'href': 'http://arxiv.or...</td>\n",
              "      <td>3</td>\n",
              "      <td>Recent approaches based on artificial neural n...</td>\n",
              "      <td>[{'term': 'cs.CL', 'scheme': 'http://arxiv.org...</td>\n",
              "      <td>Sequential Short-Text Classification with Recu...</td>\n",
              "      <td>2016</td>\n",
              "    </tr>\n",
              "    <tr>\n",
              "      <th>2</th>\n",
              "      <td>[{'name': 'Iulian Vlad Serban'}, {'name': 'Tim...</td>\n",
              "      <td>2</td>\n",
              "      <td>1606.00776v2</td>\n",
              "      <td>[{'rel': 'alternate', 'href': 'http://arxiv.or...</td>\n",
              "      <td>6</td>\n",
              "      <td>We introduce the multiresolution recurrent neu...</td>\n",
              "      <td>[{'term': 'cs.CL', 'scheme': 'http://arxiv.org...</td>\n",
              "      <td>Multiresolution Recurrent Neural Networks: An ...</td>\n",
              "      <td>2016</td>\n",
              "    </tr>\n",
              "    <tr>\n",
              "      <th>3</th>\n",
              "      <td>[{'name': 'Sebastian Ruder'}, {'name': 'Joachi...</td>\n",
              "      <td>23</td>\n",
              "      <td>1705.08142v2</td>\n",
              "      <td>[{'rel': 'alternate', 'href': 'http://arxiv.or...</td>\n",
              "      <td>5</td>\n",
              "      <td>Multi-task learning is motivated by the observ...</td>\n",
              "      <td>[{'term': 'stat.ML', 'scheme': 'http://arxiv.o...</td>\n",
              "      <td>Learning what to share between loosely related...</td>\n",
              "      <td>2017</td>\n",
              "    </tr>\n",
              "    <tr>\n",
              "      <th>4</th>\n",
              "      <td>[{'name': 'Iulian V. Serban'}, {'name': 'Chinn...</td>\n",
              "      <td>7</td>\n",
              "      <td>1709.02349v2</td>\n",
              "      <td>[{'rel': 'alternate', 'href': 'http://arxiv.or...</td>\n",
              "      <td>9</td>\n",
              "      <td>We present MILABOT: a deep reinforcement learn...</td>\n",
              "      <td>[{'term': 'cs.CL', 'scheme': 'http://arxiv.org...</td>\n",
              "      <td>A Deep Reinforcement Learning Chatbot</td>\n",
              "      <td>2017</td>\n",
              "    </tr>\n",
              "  </tbody>\n",
              "</table>\n",
              "</div>"
            ],
            "text/plain": [
              "                                              author  day            id  \\\n",
              "0  [{'name': 'Ahmed Osman'}, {'name': 'Wojciech S...    1  1802.00209v1   \n",
              "1  [{'name': 'Ji Young Lee'}, {'name': 'Franck De...   12  1603.03827v1   \n",
              "2  [{'name': 'Iulian Vlad Serban'}, {'name': 'Tim...    2  1606.00776v2   \n",
              "3  [{'name': 'Sebastian Ruder'}, {'name': 'Joachi...   23  1705.08142v2   \n",
              "4  [{'name': 'Iulian V. Serban'}, {'name': 'Chinn...    7  1709.02349v2   \n",
              "\n",
              "                                                link  month  \\\n",
              "0  [{'rel': 'alternate', 'href': 'http://arxiv.or...      2   \n",
              "1  [{'rel': 'alternate', 'href': 'http://arxiv.or...      3   \n",
              "2  [{'rel': 'alternate', 'href': 'http://arxiv.or...      6   \n",
              "3  [{'rel': 'alternate', 'href': 'http://arxiv.or...      5   \n",
              "4  [{'rel': 'alternate', 'href': 'http://arxiv.or...      9   \n",
              "\n",
              "                                             summary  \\\n",
              "0  We propose an architecture for VQA which utili...   \n",
              "1  Recent approaches based on artificial neural n...   \n",
              "2  We introduce the multiresolution recurrent neu...   \n",
              "3  Multi-task learning is motivated by the observ...   \n",
              "4  We present MILABOT: a deep reinforcement learn...   \n",
              "\n",
              "                                                 tag  \\\n",
              "0  [{'term': 'cs.AI', 'scheme': 'http://arxiv.org...   \n",
              "1  [{'term': 'cs.CL', 'scheme': 'http://arxiv.org...   \n",
              "2  [{'term': 'cs.CL', 'scheme': 'http://arxiv.org...   \n",
              "3  [{'term': 'stat.ML', 'scheme': 'http://arxiv.o...   \n",
              "4  [{'term': 'cs.CL', 'scheme': 'http://arxiv.org...   \n",
              "\n",
              "                                               title  year  \n",
              "0  Dual Recurrent Attention Units for Visual Ques...  2018  \n",
              "1  Sequential Short-Text Classification with Recu...  2016  \n",
              "2  Multiresolution Recurrent Neural Networks: An ...  2016  \n",
              "3  Learning what to share between loosely related...  2017  \n",
              "4              A Deep Reinforcement Learning Chatbot  2017  "
            ]
          },
          "metadata": {
            "tags": []
          },
          "execution_count": 7
        }
      ]
    },
    {
      "cell_type": "code",
      "metadata": {
        "id": "X9KQ-R_YhtYQ"
      },
      "source": [
        "dataset[\"author\"] = dataset[\"author\"].str.replace(\"{'name': '\", \"\")\n",
        "dataset[\"author\"] = dataset[\"author\"].str.replace('{\\'name\\': \"', \"\")\n",
        "dataset[\"author\"] = dataset[\"author\"].str.replace(\"'}\", \"\")\n",
        "dataset[\"author\"] = dataset[\"author\"].str.replace('\"}', \"\")\n",
        "dataset[\"author\"] = dataset[\"author\"].str.replace(\"]\", \"\")\n",
        "dataset[\"author\"] = dataset[\"author\"].str.replace(\"[\", \"\")\n",
        "dataset[\"author\"] = dataset[\"author\"].str.split(\",\")"
      ],
      "execution_count": null,
      "outputs": []
    },
    {
      "cell_type": "markdown",
      "metadata": {
        "id": "FDofjtMniRGG"
      },
      "source": [
        "*Could have used regex above to make it more optimized, maybe I'll change it later*\n",
        "\n"
      ]
    },
    {
      "cell_type": "code",
      "metadata": {
        "id": "y2tiS07XhtlD",
        "colab": {
          "base_uri": "https://localhost:8080/",
          "height": 204
        },
        "outputId": "f4b21d06-94df-464c-f6d4-a06cd9dc9366"
      },
      "source": [
        "dataset.head()"
      ],
      "execution_count": null,
      "outputs": [
        {
          "output_type": "execute_result",
          "data": {
            "text/html": [
              "<div>\n",
              "<style scoped>\n",
              "    .dataframe tbody tr th:only-of-type {\n",
              "        vertical-align: middle;\n",
              "    }\n",
              "\n",
              "    .dataframe tbody tr th {\n",
              "        vertical-align: top;\n",
              "    }\n",
              "\n",
              "    .dataframe thead th {\n",
              "        text-align: right;\n",
              "    }\n",
              "</style>\n",
              "<table border=\"1\" class=\"dataframe\">\n",
              "  <thead>\n",
              "    <tr style=\"text-align: right;\">\n",
              "      <th></th>\n",
              "      <th>author</th>\n",
              "      <th>day</th>\n",
              "      <th>id</th>\n",
              "      <th>link</th>\n",
              "      <th>month</th>\n",
              "      <th>summary</th>\n",
              "      <th>tag</th>\n",
              "      <th>title</th>\n",
              "      <th>year</th>\n",
              "    </tr>\n",
              "  </thead>\n",
              "  <tbody>\n",
              "    <tr>\n",
              "      <th>0</th>\n",
              "      <td>[Ahmed Osman,  Wojciech Samek]</td>\n",
              "      <td>1</td>\n",
              "      <td>1802.00209v1</td>\n",
              "      <td>[{'rel': 'alternate', 'href': 'http://arxiv.or...</td>\n",
              "      <td>2</td>\n",
              "      <td>We propose an architecture for VQA which utili...</td>\n",
              "      <td>[{'term': 'cs.AI', 'scheme': 'http://arxiv.org...</td>\n",
              "      <td>Dual Recurrent Attention Units for Visual Ques...</td>\n",
              "      <td>2018</td>\n",
              "    </tr>\n",
              "    <tr>\n",
              "      <th>1</th>\n",
              "      <td>[Ji Young Lee,  Franck Dernoncourt]</td>\n",
              "      <td>12</td>\n",
              "      <td>1603.03827v1</td>\n",
              "      <td>[{'rel': 'alternate', 'href': 'http://arxiv.or...</td>\n",
              "      <td>3</td>\n",
              "      <td>Recent approaches based on artificial neural n...</td>\n",
              "      <td>[{'term': 'cs.CL', 'scheme': 'http://arxiv.org...</td>\n",
              "      <td>Sequential Short-Text Classification with Recu...</td>\n",
              "      <td>2016</td>\n",
              "    </tr>\n",
              "    <tr>\n",
              "      <th>2</th>\n",
              "      <td>[Iulian Vlad Serban,  Tim Klinger,  Gerald Tes...</td>\n",
              "      <td>2</td>\n",
              "      <td>1606.00776v2</td>\n",
              "      <td>[{'rel': 'alternate', 'href': 'http://arxiv.or...</td>\n",
              "      <td>6</td>\n",
              "      <td>We introduce the multiresolution recurrent neu...</td>\n",
              "      <td>[{'term': 'cs.CL', 'scheme': 'http://arxiv.org...</td>\n",
              "      <td>Multiresolution Recurrent Neural Networks: An ...</td>\n",
              "      <td>2016</td>\n",
              "    </tr>\n",
              "    <tr>\n",
              "      <th>3</th>\n",
              "      <td>[Sebastian Ruder,  Joachim Bingel,  Isabelle A...</td>\n",
              "      <td>23</td>\n",
              "      <td>1705.08142v2</td>\n",
              "      <td>[{'rel': 'alternate', 'href': 'http://arxiv.or...</td>\n",
              "      <td>5</td>\n",
              "      <td>Multi-task learning is motivated by the observ...</td>\n",
              "      <td>[{'term': 'stat.ML', 'scheme': 'http://arxiv.o...</td>\n",
              "      <td>Learning what to share between loosely related...</td>\n",
              "      <td>2017</td>\n",
              "    </tr>\n",
              "    <tr>\n",
              "      <th>4</th>\n",
              "      <td>[Iulian V. Serban,  Chinnadhurai Sankar,  Math...</td>\n",
              "      <td>7</td>\n",
              "      <td>1709.02349v2</td>\n",
              "      <td>[{'rel': 'alternate', 'href': 'http://arxiv.or...</td>\n",
              "      <td>9</td>\n",
              "      <td>We present MILABOT: a deep reinforcement learn...</td>\n",
              "      <td>[{'term': 'cs.CL', 'scheme': 'http://arxiv.org...</td>\n",
              "      <td>A Deep Reinforcement Learning Chatbot</td>\n",
              "      <td>2017</td>\n",
              "    </tr>\n",
              "  </tbody>\n",
              "</table>\n",
              "</div>"
            ],
            "text/plain": [
              "                                              author  day            id  \\\n",
              "0                     [Ahmed Osman,  Wojciech Samek]    1  1802.00209v1   \n",
              "1                [Ji Young Lee,  Franck Dernoncourt]   12  1603.03827v1   \n",
              "2  [Iulian Vlad Serban,  Tim Klinger,  Gerald Tes...    2  1606.00776v2   \n",
              "3  [Sebastian Ruder,  Joachim Bingel,  Isabelle A...   23  1705.08142v2   \n",
              "4  [Iulian V. Serban,  Chinnadhurai Sankar,  Math...    7  1709.02349v2   \n",
              "\n",
              "                                                link  month  \\\n",
              "0  [{'rel': 'alternate', 'href': 'http://arxiv.or...      2   \n",
              "1  [{'rel': 'alternate', 'href': 'http://arxiv.or...      3   \n",
              "2  [{'rel': 'alternate', 'href': 'http://arxiv.or...      6   \n",
              "3  [{'rel': 'alternate', 'href': 'http://arxiv.or...      5   \n",
              "4  [{'rel': 'alternate', 'href': 'http://arxiv.or...      9   \n",
              "\n",
              "                                             summary  \\\n",
              "0  We propose an architecture for VQA which utili...   \n",
              "1  Recent approaches based on artificial neural n...   \n",
              "2  We introduce the multiresolution recurrent neu...   \n",
              "3  Multi-task learning is motivated by the observ...   \n",
              "4  We present MILABOT: a deep reinforcement learn...   \n",
              "\n",
              "                                                 tag  \\\n",
              "0  [{'term': 'cs.AI', 'scheme': 'http://arxiv.org...   \n",
              "1  [{'term': 'cs.CL', 'scheme': 'http://arxiv.org...   \n",
              "2  [{'term': 'cs.CL', 'scheme': 'http://arxiv.org...   \n",
              "3  [{'term': 'stat.ML', 'scheme': 'http://arxiv.o...   \n",
              "4  [{'term': 'cs.CL', 'scheme': 'http://arxiv.org...   \n",
              "\n",
              "                                               title  year  \n",
              "0  Dual Recurrent Attention Units for Visual Ques...  2018  \n",
              "1  Sequential Short-Text Classification with Recu...  2016  \n",
              "2  Multiresolution Recurrent Neural Networks: An ...  2016  \n",
              "3  Learning what to share between loosely related...  2017  \n",
              "4              A Deep Reinforcement Learning Chatbot  2017  "
            ]
          },
          "metadata": {
            "tags": []
          },
          "execution_count": 9
        }
      ]
    },
    {
      "cell_type": "code",
      "metadata": {
        "id": "37XFa34cjcO3"
      },
      "source": [
        "dataset[\"tag\"] = dataset[\"tag\"].str.findall(r\"(cs\\.[A-Z][A-Z]|stat\\.[A-Z][A-Z])\")"
      ],
      "execution_count": null,
      "outputs": []
    },
    {
      "cell_type": "markdown",
      "metadata": {
        "id": "fHlrvE3i4voJ"
      },
      "source": [
        "Checking if values for year and month are within the expected ranges"
      ]
    },
    {
      "cell_type": "code",
      "metadata": {
        "id": "0AitC6jf40SE",
        "colab": {
          "base_uri": "https://localhost:8080/",
          "height": 170
        },
        "outputId": "834d5286-0b4e-47bb-ea57-7e0dd0d7e76e"
      },
      "source": [
        "dataset[\"year\"].describe()"
      ],
      "execution_count": null,
      "outputs": [
        {
          "output_type": "execute_result",
          "data": {
            "text/plain": [
              "count    41000.000000\n",
              "mean      2014.484073\n",
              "std          3.685414\n",
              "min       1993.000000\n",
              "25%       2013.000000\n",
              "50%       2016.000000\n",
              "75%       2017.000000\n",
              "max       2018.000000\n",
              "Name: year, dtype: float64"
            ]
          },
          "metadata": {
            "tags": []
          },
          "execution_count": 11
        }
      ]
    },
    {
      "cell_type": "code",
      "metadata": {
        "id": "m5DlyKzP4-bp",
        "colab": {
          "base_uri": "https://localhost:8080/",
          "height": 170
        },
        "outputId": "9864ea71-a0b4-4859-b572-f6d60bc21fdb"
      },
      "source": [
        "dataset[\"month\"].describe()"
      ],
      "execution_count": null,
      "outputs": [
        {
          "output_type": "execute_result",
          "data": {
            "text/plain": [
              "count    41000.000000\n",
              "mean         6.547488\n",
              "std          3.525254\n",
              "min          1.000000\n",
              "25%          3.000000\n",
              "50%          6.000000\n",
              "75%         10.000000\n",
              "max         12.000000\n",
              "Name: month, dtype: float64"
            ]
          },
          "metadata": {
            "tags": []
          },
          "execution_count": 12
        }
      ]
    },
    {
      "cell_type": "code",
      "metadata": {
        "id": "I0xqRFEzfoev"
      },
      "source": [
        "dataset[\"date\"] = dataset[\"month\"].astype(str) + \"/\" + dataset[\"year\"].astype(str)\n",
        "dataset = dataset.loc[: , [\"author\", \"date\", \"tag\"]]"
      ],
      "execution_count": null,
      "outputs": []
    },
    {
      "cell_type": "code",
      "metadata": {
        "id": "zCfDr50E1xwD",
        "colab": {
          "base_uri": "https://localhost:8080/",
          "height": 204
        },
        "outputId": "af137a10-9dcd-4022-82d2-f0f93d6a0a94"
      },
      "source": [
        "dataset.head()"
      ],
      "execution_count": null,
      "outputs": [
        {
          "output_type": "execute_result",
          "data": {
            "text/html": [
              "<div>\n",
              "<style scoped>\n",
              "    .dataframe tbody tr th:only-of-type {\n",
              "        vertical-align: middle;\n",
              "    }\n",
              "\n",
              "    .dataframe tbody tr th {\n",
              "        vertical-align: top;\n",
              "    }\n",
              "\n",
              "    .dataframe thead th {\n",
              "        text-align: right;\n",
              "    }\n",
              "</style>\n",
              "<table border=\"1\" class=\"dataframe\">\n",
              "  <thead>\n",
              "    <tr style=\"text-align: right;\">\n",
              "      <th></th>\n",
              "      <th>author</th>\n",
              "      <th>date</th>\n",
              "      <th>tag</th>\n",
              "    </tr>\n",
              "  </thead>\n",
              "  <tbody>\n",
              "    <tr>\n",
              "      <th>0</th>\n",
              "      <td>[Ahmed Osman,  Wojciech Samek]</td>\n",
              "      <td>2/2018</td>\n",
              "      <td>[cs.AI, cs.CL, cs.CV, cs.NE, stat.ML]</td>\n",
              "    </tr>\n",
              "    <tr>\n",
              "      <th>1</th>\n",
              "      <td>[Ji Young Lee,  Franck Dernoncourt]</td>\n",
              "      <td>3/2016</td>\n",
              "      <td>[cs.CL, cs.AI, cs.LG, cs.NE, stat.ML]</td>\n",
              "    </tr>\n",
              "    <tr>\n",
              "      <th>2</th>\n",
              "      <td>[Iulian Vlad Serban,  Tim Klinger,  Gerald Tes...</td>\n",
              "      <td>6/2016</td>\n",
              "      <td>[cs.CL, cs.AI, cs.LG, cs.NE, stat.ML]</td>\n",
              "    </tr>\n",
              "    <tr>\n",
              "      <th>3</th>\n",
              "      <td>[Sebastian Ruder,  Joachim Bingel,  Isabelle A...</td>\n",
              "      <td>5/2017</td>\n",
              "      <td>[stat.ML, cs.AI, cs.CL, cs.LG, cs.NE]</td>\n",
              "    </tr>\n",
              "    <tr>\n",
              "      <th>4</th>\n",
              "      <td>[Iulian V. Serban,  Chinnadhurai Sankar,  Math...</td>\n",
              "      <td>9/2017</td>\n",
              "      <td>[cs.CL, cs.AI, cs.LG, cs.NE, stat.ML]</td>\n",
              "    </tr>\n",
              "  </tbody>\n",
              "</table>\n",
              "</div>"
            ],
            "text/plain": [
              "                                              author    date  \\\n",
              "0                     [Ahmed Osman,  Wojciech Samek]  2/2018   \n",
              "1                [Ji Young Lee,  Franck Dernoncourt]  3/2016   \n",
              "2  [Iulian Vlad Serban,  Tim Klinger,  Gerald Tes...  6/2016   \n",
              "3  [Sebastian Ruder,  Joachim Bingel,  Isabelle A...  5/2017   \n",
              "4  [Iulian V. Serban,  Chinnadhurai Sankar,  Math...  9/2017   \n",
              "\n",
              "                                     tag  \n",
              "0  [cs.AI, cs.CL, cs.CV, cs.NE, stat.ML]  \n",
              "1  [cs.CL, cs.AI, cs.LG, cs.NE, stat.ML]  \n",
              "2  [cs.CL, cs.AI, cs.LG, cs.NE, stat.ML]  \n",
              "3  [stat.ML, cs.AI, cs.CL, cs.LG, cs.NE]  \n",
              "4  [cs.CL, cs.AI, cs.LG, cs.NE, stat.ML]  "
            ]
          },
          "metadata": {
            "tags": []
          },
          "execution_count": 14
        }
      ]
    },
    {
      "cell_type": "markdown",
      "metadata": {
        "id": "MBFwqjfs3zHk"
      },
      "source": [
        "Data is clean, but not normalized yet. I won't split it into multiple Dataframes to reduce redundancy, as the size of the Dataframe is manageable as is and is good enough for the scope of me using this dataset for Data Viz.\n",
        "\n"
      ]
    },
    {
      "cell_type": "code",
      "metadata": {
        "id": "J7SV9VF3reso"
      },
      "source": [
        "dataset = dataset.explode('tag')\n",
        "dataset = dataset.explode('author')\n",
        "dataset = dataset.reset_index()"
      ],
      "execution_count": null,
      "outputs": []
    },
    {
      "cell_type": "code",
      "metadata": {
        "id": "L9rUiXNjui7y",
        "colab": {
          "base_uri": "https://localhost:8080/",
          "height": 514
        },
        "outputId": "a682bebe-b2f9-4162-ec8e-9518a78e4c51"
      },
      "source": [
        "dataset.head(15)"
      ],
      "execution_count": null,
      "outputs": [
        {
          "output_type": "execute_result",
          "data": {
            "text/html": [
              "<div>\n",
              "<style scoped>\n",
              "    .dataframe tbody tr th:only-of-type {\n",
              "        vertical-align: middle;\n",
              "    }\n",
              "\n",
              "    .dataframe tbody tr th {\n",
              "        vertical-align: top;\n",
              "    }\n",
              "\n",
              "    .dataframe thead th {\n",
              "        text-align: right;\n",
              "    }\n",
              "</style>\n",
              "<table border=\"1\" class=\"dataframe\">\n",
              "  <thead>\n",
              "    <tr style=\"text-align: right;\">\n",
              "      <th></th>\n",
              "      <th>index</th>\n",
              "      <th>author</th>\n",
              "      <th>date</th>\n",
              "      <th>tag</th>\n",
              "    </tr>\n",
              "  </thead>\n",
              "  <tbody>\n",
              "    <tr>\n",
              "      <th>0</th>\n",
              "      <td>0</td>\n",
              "      <td>Ahmed Osman</td>\n",
              "      <td>2/2018</td>\n",
              "      <td>cs.AI</td>\n",
              "    </tr>\n",
              "    <tr>\n",
              "      <th>1</th>\n",
              "      <td>0</td>\n",
              "      <td>Wojciech Samek</td>\n",
              "      <td>2/2018</td>\n",
              "      <td>cs.AI</td>\n",
              "    </tr>\n",
              "    <tr>\n",
              "      <th>2</th>\n",
              "      <td>0</td>\n",
              "      <td>Ahmed Osman</td>\n",
              "      <td>2/2018</td>\n",
              "      <td>cs.CL</td>\n",
              "    </tr>\n",
              "    <tr>\n",
              "      <th>3</th>\n",
              "      <td>0</td>\n",
              "      <td>Wojciech Samek</td>\n",
              "      <td>2/2018</td>\n",
              "      <td>cs.CL</td>\n",
              "    </tr>\n",
              "    <tr>\n",
              "      <th>4</th>\n",
              "      <td>0</td>\n",
              "      <td>Ahmed Osman</td>\n",
              "      <td>2/2018</td>\n",
              "      <td>cs.CV</td>\n",
              "    </tr>\n",
              "    <tr>\n",
              "      <th>5</th>\n",
              "      <td>0</td>\n",
              "      <td>Wojciech Samek</td>\n",
              "      <td>2/2018</td>\n",
              "      <td>cs.CV</td>\n",
              "    </tr>\n",
              "    <tr>\n",
              "      <th>6</th>\n",
              "      <td>0</td>\n",
              "      <td>Ahmed Osman</td>\n",
              "      <td>2/2018</td>\n",
              "      <td>cs.NE</td>\n",
              "    </tr>\n",
              "    <tr>\n",
              "      <th>7</th>\n",
              "      <td>0</td>\n",
              "      <td>Wojciech Samek</td>\n",
              "      <td>2/2018</td>\n",
              "      <td>cs.NE</td>\n",
              "    </tr>\n",
              "    <tr>\n",
              "      <th>8</th>\n",
              "      <td>0</td>\n",
              "      <td>Ahmed Osman</td>\n",
              "      <td>2/2018</td>\n",
              "      <td>stat.ML</td>\n",
              "    </tr>\n",
              "    <tr>\n",
              "      <th>9</th>\n",
              "      <td>0</td>\n",
              "      <td>Wojciech Samek</td>\n",
              "      <td>2/2018</td>\n",
              "      <td>stat.ML</td>\n",
              "    </tr>\n",
              "    <tr>\n",
              "      <th>10</th>\n",
              "      <td>1</td>\n",
              "      <td>Ji Young Lee</td>\n",
              "      <td>3/2016</td>\n",
              "      <td>cs.CL</td>\n",
              "    </tr>\n",
              "    <tr>\n",
              "      <th>11</th>\n",
              "      <td>1</td>\n",
              "      <td>Franck Dernoncourt</td>\n",
              "      <td>3/2016</td>\n",
              "      <td>cs.CL</td>\n",
              "    </tr>\n",
              "    <tr>\n",
              "      <th>12</th>\n",
              "      <td>1</td>\n",
              "      <td>Ji Young Lee</td>\n",
              "      <td>3/2016</td>\n",
              "      <td>cs.AI</td>\n",
              "    </tr>\n",
              "    <tr>\n",
              "      <th>13</th>\n",
              "      <td>1</td>\n",
              "      <td>Franck Dernoncourt</td>\n",
              "      <td>3/2016</td>\n",
              "      <td>cs.AI</td>\n",
              "    </tr>\n",
              "    <tr>\n",
              "      <th>14</th>\n",
              "      <td>1</td>\n",
              "      <td>Ji Young Lee</td>\n",
              "      <td>3/2016</td>\n",
              "      <td>cs.LG</td>\n",
              "    </tr>\n",
              "  </tbody>\n",
              "</table>\n",
              "</div>"
            ],
            "text/plain": [
              "    index               author    date      tag\n",
              "0       0          Ahmed Osman  2/2018    cs.AI\n",
              "1       0       Wojciech Samek  2/2018    cs.AI\n",
              "2       0          Ahmed Osman  2/2018    cs.CL\n",
              "3       0       Wojciech Samek  2/2018    cs.CL\n",
              "4       0          Ahmed Osman  2/2018    cs.CV\n",
              "5       0       Wojciech Samek  2/2018    cs.CV\n",
              "6       0          Ahmed Osman  2/2018    cs.NE\n",
              "7       0       Wojciech Samek  2/2018    cs.NE\n",
              "8       0          Ahmed Osman  2/2018  stat.ML\n",
              "9       0       Wojciech Samek  2/2018  stat.ML\n",
              "10      1         Ji Young Lee  3/2016    cs.CL\n",
              "11      1   Franck Dernoncourt  3/2016    cs.CL\n",
              "12      1         Ji Young Lee  3/2016    cs.AI\n",
              "13      1   Franck Dernoncourt  3/2016    cs.AI\n",
              "14      1         Ji Young Lee  3/2016    cs.LG"
            ]
          },
          "metadata": {
            "tags": []
          },
          "execution_count": 16
        }
      ]
    },
    {
      "cell_type": "code",
      "metadata": {
        "id": "jDlwZLUH9nU6",
        "colab": {
          "base_uri": "https://localhost:8080/",
          "height": 816
        },
        "outputId": "cf025480-925e-42dd-985d-a5e2a61b39dd"
      },
      "source": [
        "dataset[\"tag\"].value_counts()"
      ],
      "execution_count": null,
      "outputs": [
        {
          "output_type": "execute_result",
          "data": {
            "text/plain": [
              "cs.CV      51769\n",
              "cs.LG      44774\n",
              "stat.ML    33057\n",
              "cs.AI      30856\n",
              "cs.CL      20804\n",
              "cs.NE      12004\n",
              "cs.IR       4642\n",
              "cs.RO       3732\n",
              "cs.SI       2130\n",
              "cs.HC       1666\n",
              "cs.IT       1642\n",
              "cs.DS       1607\n",
              "cs.DC       1566\n",
              "cs.LO       1562\n",
              "cs.CR       1494\n",
              "cs.SD       1386\n",
              "cs.MM       1258\n",
              "cs.CY       1236\n",
              "stat.ME     1234\n",
              "stat.AP     1186\n",
              "cs.DB       1007\n",
              "stat.TH      960\n",
              "cs.CE        903\n",
              "cs.GT        887\n",
              "cs.SY        879\n",
              "cs.GR        849\n",
              "cs.NA        824\n",
              "cs.MA        793\n",
              "stat.CO      745\n",
              "cs.SE        624\n",
              "cs.NI        448\n",
              "cs.DL        429\n",
              "cs.CC        424\n",
              "cs.PL        351\n",
              "cs.ET        293\n",
              "cs.AR        288\n",
              "cs.MS        285\n",
              "cs.CG        269\n",
              "cs.DM        238\n",
              "cs.FL        122\n",
              "cs.PF        122\n",
              "cs.SC         68\n",
              "cs.GL         30\n",
              "cs.OH         25\n",
              "stat.OT       19\n",
              "cs.OS         11\n",
              "Name: tag, dtype: int64"
            ]
          },
          "metadata": {
            "tags": []
          },
          "execution_count": 17
        }
      ]
    },
    {
      "cell_type": "markdown",
      "metadata": {
        "id": "553ZHM-G6bXb"
      },
      "source": [
        "Removing entries with tags we don't want to track"
      ]
    },
    {
      "cell_type": "code",
      "metadata": {
        "id": "rkGSZM301rTR"
      },
      "source": [
        "tag_filter = (dataset[\"tag\"] == \"cs.AI\") | (dataset[\"tag\"] == \"cs.CL\") | (dataset[\"tag\"] == \"cs.NE\") | (dataset[\"tag\"] == \"cs.CV\") | (dataset[\"tag\"] == \"stat.ML\")"
      ],
      "execution_count": null,
      "outputs": []
    },
    {
      "cell_type": "code",
      "metadata": {
        "id": "2vlrADnR8BDg"
      },
      "source": [
        "dataset = dataset[tag_filter]"
      ],
      "execution_count": null,
      "outputs": []
    },
    {
      "cell_type": "code",
      "metadata": {
        "id": "7qyPpZti8HW1",
        "colab": {
          "base_uri": "https://localhost:8080/",
          "height": 514
        },
        "outputId": "f7dac8a8-3979-4ee9-9a3a-a41faf99dbcc"
      },
      "source": [
        "dataset.head(15)"
      ],
      "execution_count": null,
      "outputs": [
        {
          "output_type": "execute_result",
          "data": {
            "text/html": [
              "<div>\n",
              "<style scoped>\n",
              "    .dataframe tbody tr th:only-of-type {\n",
              "        vertical-align: middle;\n",
              "    }\n",
              "\n",
              "    .dataframe tbody tr th {\n",
              "        vertical-align: top;\n",
              "    }\n",
              "\n",
              "    .dataframe thead th {\n",
              "        text-align: right;\n",
              "    }\n",
              "</style>\n",
              "<table border=\"1\" class=\"dataframe\">\n",
              "  <thead>\n",
              "    <tr style=\"text-align: right;\">\n",
              "      <th></th>\n",
              "      <th>index</th>\n",
              "      <th>author</th>\n",
              "      <th>date</th>\n",
              "      <th>tag</th>\n",
              "    </tr>\n",
              "  </thead>\n",
              "  <tbody>\n",
              "    <tr>\n",
              "      <th>0</th>\n",
              "      <td>0</td>\n",
              "      <td>Ahmed Osman</td>\n",
              "      <td>2/2018</td>\n",
              "      <td>cs.AI</td>\n",
              "    </tr>\n",
              "    <tr>\n",
              "      <th>1</th>\n",
              "      <td>0</td>\n",
              "      <td>Wojciech Samek</td>\n",
              "      <td>2/2018</td>\n",
              "      <td>cs.AI</td>\n",
              "    </tr>\n",
              "    <tr>\n",
              "      <th>2</th>\n",
              "      <td>0</td>\n",
              "      <td>Ahmed Osman</td>\n",
              "      <td>2/2018</td>\n",
              "      <td>cs.CL</td>\n",
              "    </tr>\n",
              "    <tr>\n",
              "      <th>3</th>\n",
              "      <td>0</td>\n",
              "      <td>Wojciech Samek</td>\n",
              "      <td>2/2018</td>\n",
              "      <td>cs.CL</td>\n",
              "    </tr>\n",
              "    <tr>\n",
              "      <th>4</th>\n",
              "      <td>0</td>\n",
              "      <td>Ahmed Osman</td>\n",
              "      <td>2/2018</td>\n",
              "      <td>cs.CV</td>\n",
              "    </tr>\n",
              "    <tr>\n",
              "      <th>5</th>\n",
              "      <td>0</td>\n",
              "      <td>Wojciech Samek</td>\n",
              "      <td>2/2018</td>\n",
              "      <td>cs.CV</td>\n",
              "    </tr>\n",
              "    <tr>\n",
              "      <th>6</th>\n",
              "      <td>0</td>\n",
              "      <td>Ahmed Osman</td>\n",
              "      <td>2/2018</td>\n",
              "      <td>cs.NE</td>\n",
              "    </tr>\n",
              "    <tr>\n",
              "      <th>7</th>\n",
              "      <td>0</td>\n",
              "      <td>Wojciech Samek</td>\n",
              "      <td>2/2018</td>\n",
              "      <td>cs.NE</td>\n",
              "    </tr>\n",
              "    <tr>\n",
              "      <th>8</th>\n",
              "      <td>0</td>\n",
              "      <td>Ahmed Osman</td>\n",
              "      <td>2/2018</td>\n",
              "      <td>stat.ML</td>\n",
              "    </tr>\n",
              "    <tr>\n",
              "      <th>9</th>\n",
              "      <td>0</td>\n",
              "      <td>Wojciech Samek</td>\n",
              "      <td>2/2018</td>\n",
              "      <td>stat.ML</td>\n",
              "    </tr>\n",
              "    <tr>\n",
              "      <th>10</th>\n",
              "      <td>1</td>\n",
              "      <td>Ji Young Lee</td>\n",
              "      <td>3/2016</td>\n",
              "      <td>cs.CL</td>\n",
              "    </tr>\n",
              "    <tr>\n",
              "      <th>11</th>\n",
              "      <td>1</td>\n",
              "      <td>Franck Dernoncourt</td>\n",
              "      <td>3/2016</td>\n",
              "      <td>cs.CL</td>\n",
              "    </tr>\n",
              "    <tr>\n",
              "      <th>12</th>\n",
              "      <td>1</td>\n",
              "      <td>Ji Young Lee</td>\n",
              "      <td>3/2016</td>\n",
              "      <td>cs.AI</td>\n",
              "    </tr>\n",
              "    <tr>\n",
              "      <th>13</th>\n",
              "      <td>1</td>\n",
              "      <td>Franck Dernoncourt</td>\n",
              "      <td>3/2016</td>\n",
              "      <td>cs.AI</td>\n",
              "    </tr>\n",
              "    <tr>\n",
              "      <th>16</th>\n",
              "      <td>1</td>\n",
              "      <td>Ji Young Lee</td>\n",
              "      <td>3/2016</td>\n",
              "      <td>cs.NE</td>\n",
              "    </tr>\n",
              "  </tbody>\n",
              "</table>\n",
              "</div>"
            ],
            "text/plain": [
              "    index               author    date      tag\n",
              "0       0          Ahmed Osman  2/2018    cs.AI\n",
              "1       0       Wojciech Samek  2/2018    cs.AI\n",
              "2       0          Ahmed Osman  2/2018    cs.CL\n",
              "3       0       Wojciech Samek  2/2018    cs.CL\n",
              "4       0          Ahmed Osman  2/2018    cs.CV\n",
              "5       0       Wojciech Samek  2/2018    cs.CV\n",
              "6       0          Ahmed Osman  2/2018    cs.NE\n",
              "7       0       Wojciech Samek  2/2018    cs.NE\n",
              "8       0          Ahmed Osman  2/2018  stat.ML\n",
              "9       0       Wojciech Samek  2/2018  stat.ML\n",
              "10      1         Ji Young Lee  3/2016    cs.CL\n",
              "11      1   Franck Dernoncourt  3/2016    cs.CL\n",
              "12      1         Ji Young Lee  3/2016    cs.AI\n",
              "13      1   Franck Dernoncourt  3/2016    cs.AI\n",
              "16      1         Ji Young Lee  3/2016    cs.NE"
            ]
          },
          "metadata": {
            "tags": []
          },
          "execution_count": 20
        }
      ]
    },
    {
      "cell_type": "code",
      "metadata": {
        "id": "tkDyumjC8TyA"
      },
      "source": [
        "dataset.to_csv('arxivData.csv')"
      ],
      "execution_count": null,
      "outputs": []
    },
    {
      "cell_type": "code",
      "metadata": {
        "id": "fZj-Yc8iD_WP",
        "colab": {
          "base_uri": "https://localhost:8080/",
          "height": 700
        },
        "outputId": "497e4f88-b620-442a-c22c-53ab4cc2bb84"
      },
      "source": [
        "dataset[dataset[\"author\"] == \"Uwe Aickelin\"]"
      ],
      "execution_count": null,
      "outputs": [
        {
          "output_type": "execute_result",
          "data": {
            "text/html": [
              "<div>\n",
              "<style scoped>\n",
              "    .dataframe tbody tr th:only-of-type {\n",
              "        vertical-align: middle;\n",
              "    }\n",
              "\n",
              "    .dataframe tbody tr th {\n",
              "        vertical-align: top;\n",
              "    }\n",
              "\n",
              "    .dataframe thead th {\n",
              "        text-align: right;\n",
              "    }\n",
              "</style>\n",
              "<table border=\"1\" class=\"dataframe\">\n",
              "  <thead>\n",
              "    <tr style=\"text-align: right;\">\n",
              "      <th></th>\n",
              "      <th>index</th>\n",
              "      <th>author</th>\n",
              "      <th>date</th>\n",
              "      <th>tag</th>\n",
              "    </tr>\n",
              "  </thead>\n",
              "  <tbody>\n",
              "    <tr>\n",
              "      <th>45739</th>\n",
              "      <td>3964</td>\n",
              "      <td>Uwe Aickelin</td>\n",
              "      <td>1/2008</td>\n",
              "      <td>cs.NE</td>\n",
              "    </tr>\n",
              "    <tr>\n",
              "      <th>45741</th>\n",
              "      <td>3964</td>\n",
              "      <td>Uwe Aickelin</td>\n",
              "      <td>1/2008</td>\n",
              "      <td>cs.AI</td>\n",
              "    </tr>\n",
              "    <tr>\n",
              "      <th>45747</th>\n",
              "      <td>3966</td>\n",
              "      <td>Uwe Aickelin</td>\n",
              "      <td>1/2008</td>\n",
              "      <td>cs.NE</td>\n",
              "    </tr>\n",
              "    <tr>\n",
              "      <th>45748</th>\n",
              "      <td>3966</td>\n",
              "      <td>Uwe Aickelin</td>\n",
              "      <td>1/2008</td>\n",
              "      <td>cs.AI</td>\n",
              "    </tr>\n",
              "    <tr>\n",
              "      <th>45877</th>\n",
              "      <td>3995</td>\n",
              "      <td>Uwe Aickelin</td>\n",
              "      <td>3/2010</td>\n",
              "      <td>cs.AI</td>\n",
              "    </tr>\n",
              "    <tr>\n",
              "      <th>45878</th>\n",
              "      <td>3995</td>\n",
              "      <td>Uwe Aickelin</td>\n",
              "      <td>3/2010</td>\n",
              "      <td>cs.NE</td>\n",
              "    </tr>\n",
              "    <tr>\n",
              "      <th>122480</th>\n",
              "      <td>13604</td>\n",
              "      <td>Uwe Aickelin</td>\n",
              "      <td>5/2013</td>\n",
              "      <td>cs.NE</td>\n",
              "    </tr>\n",
              "    <tr>\n",
              "      <th>188547</th>\n",
              "      <td>33261</td>\n",
              "      <td>Uwe Aickelin</td>\n",
              "      <td>1/2008</td>\n",
              "      <td>cs.NE</td>\n",
              "    </tr>\n",
              "    <tr>\n",
              "      <th>188557</th>\n",
              "      <td>33264</td>\n",
              "      <td>Uwe Aickelin</td>\n",
              "      <td>1/2008</td>\n",
              "      <td>cs.NE</td>\n",
              "    </tr>\n",
              "    <tr>\n",
              "      <th>188563</th>\n",
              "      <td>33265</td>\n",
              "      <td>Uwe Aickelin</td>\n",
              "      <td>2/2008</td>\n",
              "      <td>cs.NE</td>\n",
              "    </tr>\n",
              "    <tr>\n",
              "      <th>188569</th>\n",
              "      <td>33267</td>\n",
              "      <td>Uwe Aickelin</td>\n",
              "      <td>2/2008</td>\n",
              "      <td>cs.NE</td>\n",
              "    </tr>\n",
              "    <tr>\n",
              "      <th>188982</th>\n",
              "      <td>33374</td>\n",
              "      <td>Uwe Aickelin</td>\n",
              "      <td>8/2013</td>\n",
              "      <td>cs.NE</td>\n",
              "    </tr>\n",
              "    <tr>\n",
              "      <th>188995</th>\n",
              "      <td>33377</td>\n",
              "      <td>Uwe Aickelin</td>\n",
              "      <td>3/2008</td>\n",
              "      <td>cs.NE</td>\n",
              "    </tr>\n",
              "    <tr>\n",
              "      <th>189033</th>\n",
              "      <td>33382</td>\n",
              "      <td>Uwe Aickelin</td>\n",
              "      <td>3/2008</td>\n",
              "      <td>cs.NE</td>\n",
              "    </tr>\n",
              "    <tr>\n",
              "      <th>189047</th>\n",
              "      <td>33385</td>\n",
              "      <td>Uwe Aickelin</td>\n",
              "      <td>3/2008</td>\n",
              "      <td>cs.NE</td>\n",
              "    </tr>\n",
              "    <tr>\n",
              "      <th>189051</th>\n",
              "      <td>33386</td>\n",
              "      <td>Uwe Aickelin</td>\n",
              "      <td>3/2008</td>\n",
              "      <td>cs.NE</td>\n",
              "    </tr>\n",
              "    <tr>\n",
              "      <th>189055</th>\n",
              "      <td>33387</td>\n",
              "      <td>Uwe Aickelin</td>\n",
              "      <td>3/2008</td>\n",
              "      <td>cs.NE</td>\n",
              "    </tr>\n",
              "    <tr>\n",
              "      <th>189059</th>\n",
              "      <td>33388</td>\n",
              "      <td>Uwe Aickelin</td>\n",
              "      <td>3/2008</td>\n",
              "      <td>cs.NE</td>\n",
              "    </tr>\n",
              "    <tr>\n",
              "      <th>189065</th>\n",
              "      <td>33389</td>\n",
              "      <td>Uwe Aickelin</td>\n",
              "      <td>3/2008</td>\n",
              "      <td>cs.NE</td>\n",
              "    </tr>\n",
              "    <tr>\n",
              "      <th>189472</th>\n",
              "      <td>33479</td>\n",
              "      <td>Uwe Aickelin</td>\n",
              "      <td>5/2013</td>\n",
              "      <td>cs.NE</td>\n",
              "    </tr>\n",
              "    <tr>\n",
              "      <th>189803</th>\n",
              "      <td>33551</td>\n",
              "      <td>Uwe Aickelin</td>\n",
              "      <td>11/2007</td>\n",
              "      <td>cs.NE</td>\n",
              "    </tr>\n",
              "  </tbody>\n",
              "</table>\n",
              "</div>"
            ],
            "text/plain": [
              "        index        author     date    tag\n",
              "45739    3964  Uwe Aickelin   1/2008  cs.NE\n",
              "45741    3964  Uwe Aickelin   1/2008  cs.AI\n",
              "45747    3966  Uwe Aickelin   1/2008  cs.NE\n",
              "45748    3966  Uwe Aickelin   1/2008  cs.AI\n",
              "45877    3995  Uwe Aickelin   3/2010  cs.AI\n",
              "45878    3995  Uwe Aickelin   3/2010  cs.NE\n",
              "122480  13604  Uwe Aickelin   5/2013  cs.NE\n",
              "188547  33261  Uwe Aickelin   1/2008  cs.NE\n",
              "188557  33264  Uwe Aickelin   1/2008  cs.NE\n",
              "188563  33265  Uwe Aickelin   2/2008  cs.NE\n",
              "188569  33267  Uwe Aickelin   2/2008  cs.NE\n",
              "188982  33374  Uwe Aickelin   8/2013  cs.NE\n",
              "188995  33377  Uwe Aickelin   3/2008  cs.NE\n",
              "189033  33382  Uwe Aickelin   3/2008  cs.NE\n",
              "189047  33385  Uwe Aickelin   3/2008  cs.NE\n",
              "189051  33386  Uwe Aickelin   3/2008  cs.NE\n",
              "189055  33387  Uwe Aickelin   3/2008  cs.NE\n",
              "189059  33388  Uwe Aickelin   3/2008  cs.NE\n",
              "189065  33389  Uwe Aickelin   3/2008  cs.NE\n",
              "189472  33479  Uwe Aickelin   5/2013  cs.NE\n",
              "189803  33551  Uwe Aickelin  11/2007  cs.NE"
            ]
          },
          "metadata": {
            "tags": []
          },
          "execution_count": 22
        }
      ]
    }
  ]
}